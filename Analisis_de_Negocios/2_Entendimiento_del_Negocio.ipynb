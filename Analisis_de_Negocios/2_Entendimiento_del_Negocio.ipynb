{
 "cells": [
  {
   "cell_type": "markdown",
   "metadata": {},
   "source": [
    "| **Inicio** | **atrás 1** | **Siguiente 3** |\n",
    "|----------- |-------------- |---------------|\n",
    "| [🏠](../README.md) | [⏪](./1_Introduccion_al_Analisis_de_Negocios.ipynb)| [⏩](./3_Recopilacion_y_Analisis_de_Requisitos.ipynb)|"
   ]
  },
  {
   "cell_type": "markdown",
   "metadata": {},
   "source": [
    "# **2. Entendimiento del Negocio**"
   ]
  },
  {
   "cell_type": "markdown",
   "metadata": {},
   "source": [
    "## **Entrevistas y Reuniones con Stakeholders**"
   ]
  },
  {
   "cell_type": "markdown",
   "metadata": {},
   "source": [
    "### **Técnicas de entrevista efectivas**"
   ]
  },
  {
   "cell_type": "markdown",
   "metadata": {},
   "source": [
    "### **Identificación de partes interesadas y sus necesidades**"
   ]
  },
  {
   "cell_type": "markdown",
   "metadata": {},
   "source": [
    "Las entrevistas son una herramienta crucial para que los analistas de datos comprendan las necesidades y expectativas de los stakeholders. A continuación, se presentan algunas técnicas efectivas con ejemplos:\n",
    "\n",
    "1. **Entrevistas Estructuradas:**\n",
    "\n",
    "   - **Descripción:** Sigue un conjunto de preguntas predeterminadas para recopilar información específica.\n",
    "   - **Ejemplo:** \"¿Cuáles son los KPIs más importantes para evaluar el rendimiento del negocio?\".\n",
    "\n",
    "2. **Entrevistas No Estructuradas:**\n",
    "\n",
    "   - **Descripción:** Se basa en conversaciones abiertas y exploratorias para comprender a fondo los problemas.\n",
    "   - **Ejemplo:** \"Hábleme sobre los desafíos que enfrenta su equipo al analizar datos\".\n",
    "\n",
    "3. **Entrevistas de Grupo:**\n",
    "\n",
    "   - **Descripción:** Involucra a múltiples stakeholders en una sesión para obtener diversas perspectivas.\n",
    "   - **Ejemplo:** \"¿Cómo afectaría esta nueva herramienta de análisis de datos a diferentes áreas de su equipo?\".\n",
    "\n",
    "4. **Entrevistas Contextuales:**\n",
    "\n",
    "   - **Descripción:** Realizadas en el entorno de trabajo del stakeholder para comprender mejor sus procesos y desafíos.\n",
    "   - **Ejemplo:** \"¿Puede mostrarme cómo actualmente accede y utiliza los informes de datos?\".\n",
    "\n",
    "5. **Entrevistas para Identificación de Requisitos:**\n",
    "\n",
    "   - **Descripción:** Centradas en descubrir los requisitos específicos para el desarrollo de soluciones de datos.\n",
    "   - **Ejemplo:** \"¿Qué funcionalidades considera más cruciales para la nueva plataforma de visualización de datos?\".\n",
    "\n",
    "6. **Entrevistas de Validación:**\n",
    "\n",
    "   - **Descripción:** Utilizadas para validar las interpretaciones y resultados obtenidos hasta el momento.\n",
    "   - **Ejemplo:** \"Hemos identificado estas tendencias; ¿coinciden con su comprensión y expectativas?\".\n",
    "\n",
    "7. **Entrevistas de Juego de Roles:**\n",
    "\n",
    "   - **Descripción:** Stakeholders asumen roles ficticios para expresar sus necesidades y deseos de manera más libre.\n",
    "   - **Ejemplo:** \"Imaginemos que esta herramienta de análisis de datos ya está implementada. ¿Cómo la usaría en su día a día?\".\n",
    "\n",
    "**Consejos para Entrevistas Efectivas:**\n",
    "\n",
    "1. **Preparación:**\n",
    "\n",
    "   - Investigue sobre la empresa y los stakeholders antes de la entrevista.\n",
    "   - Defina claramente los objetivos de la entrevista.\n",
    "\n",
    "2. **Escucha Activa:**\n",
    "\n",
    "   - Preste atención a las respuestas y formule preguntas de seguimiento.\n",
    "   - No interrumpa; permita que los stakeholders expresen sus ideas completamente.\n",
    "\n",
    "3. **Preguntas Abiertas:**\n",
    "\n",
    "   - Utilice preguntas abiertas para fomentar respuestas detalladas.\n",
    "   - Evite preguntas que puedan ser respondidas con \"sí\" o \"no\".\n",
    "\n",
    "4. **Adaptabilidad:**\n",
    "\n",
    "   - Ajuste las preguntas según las respuestas y las necesidades emergentes.\n",
    "   - Sea flexible para explorar áreas inesperadas de interés.\n",
    "\n",
    "5. **Registro Detallado:**\n",
    "\n",
    "   - Tome notas detalladas y, cuando sea posible, grabe la entrevista.\n",
    "   - Documente cualquier gesto o expresión no verbal significativa.\n",
    "\n",
    "6. **Seguimiento:**\n",
    "\n",
    "   - Desarrolle un resumen de la entrevista y compártalo con los stakeholders para validar la comprensión.\n",
    "   - Proporcione actualizaciones regulares sobre los avances.\n",
    "\n",
    "7. **Retroalimentación Constructiva:**\n",
    "\n",
    "   - Solicite retroalimentación sobre la efectividad de la entrevista.\n",
    "   - Aprenda y mejore continuamente sus habilidades de entrevista.\n",
    "\n",
    "Al aplicar estas técnicas, los analistas de datos pueden garantizar que las entrevistas con stakeholders sean productivas, proporcionando información valiosa para el desarrollo de soluciones analíticas efectivas."
   ]
  },
  {
   "cell_type": "markdown",
   "metadata": {},
   "source": [
    "## **Modelado de Negocios**"
   ]
  },
  {
   "cell_type": "markdown",
   "metadata": {},
   "source": [
    "### **Uso de diagramas de flujo, mapas de procesos**"
   ]
  },
  {
   "cell_type": "markdown",
   "metadata": {},
   "source": [
    "### **Documentación de procesos empresariales**"
   ]
  },
  {
   "cell_type": "markdown",
   "metadata": {},
   "source": [
    "1. **Diagramas de Flujo:**\n",
    "\n",
    "Los diagramas de flujo son representaciones visuales de los pasos o procesos en un sistema. Son esenciales para el modelado de negocios, ya que ofrecen una visión clara y estructurada de cómo funcionan las operaciones. Aquí hay una explicación detallada y ejemplos:\n",
    "\n",
    "**Explicación:**\n",
    "\n",
    "- **Símbolos Básicos:**\n",
    "\n",
    "  - **Rectángulos:** Representan pasos o procesos.\n",
    "  - **Rombo (Decisiones):** Indican una decisión que debe tomarse.\n",
    "  - **Óvalos:** Marcadores de inicio o fin del proceso.\n",
    "  - **Flechas:** Conectan los símbolos y muestran la dirección del flujo.\n",
    "\n",
    "- **Ejemplo: Proceso de Compra en Línea:**\n",
    "\n",
    "  - **Inicio:** Usuario visita el sitio web.\n",
    "  - **Proceso:** Selección de productos y añadir al carrito.\n",
    "  - **Decisión:** ¿Carrito de compra vacío?\n",
    "  - **Sí:** Regreso al proceso de selección de productos.\n",
    "  - **No:** Continuar al proceso de pago.\n",
    "  - **Fin:** Confirmación de la compra.\n",
    "\n",
    "**Beneficios:**\n",
    "\n",
    "- Claridad en la representación de procesos.\n",
    "- Facilita la identificación de posibles mejoras.\n",
    "- Comunicación efectiva entre equipos y stakeholders.\n",
    "\n",
    "2. **Mapas de Procesos:**\n",
    "\n",
    "Los mapas de procesos ofrecen una visión más holística, mostrando cómo los procesos interactúan entre sí y con partes interesadas. A continuación, se detalla su uso con ejemplos:\n",
    "\n",
    "**Explicación:**\n",
    "\n",
    "- **Identificación de Procesos:**\n",
    "\n",
    "  - Define los procesos clave y subprocesos.\n",
    "  - Representa actividades, decisiones y flujos de información.\n",
    "\n",
    "- **Relaciones e Interacciones:**\n",
    "\n",
    "  - Muestra cómo los procesos se conectan.\n",
    "  - Resalta las dependencias y la secuencia de actividades.\n",
    "\n",
    "- **Ejemplo: Proceso de Gestión de Proyectos:**\n",
    "\n",
    "  - **Inicio:** Inicia un nuevo proyecto.\n",
    "  - **Proceso:** Planificación, ejecución y monitoreo.\n",
    "  - **Interacción:** Comunicación constante con el equipo.\n",
    "  - **Fin:** Entrega del proyecto y análisis post-implementación.\n",
    "\n",
    "**Beneficios:**\n",
    "\n",
    "- **Visualización Integral:** Comprende la relación entre diferentes procesos.\n",
    "- **Identificación de Cuellos de Botella:** Destaca áreas de mejora.\n",
    "- **Comunicación Efectiva:** Facilita la comprensión entre departamentos.\n",
    "\n",
    "**Conclusiones:**\n",
    "\n",
    "Tanto los diagramas de flujo como los mapas de procesos son herramientas poderosas para el modelado de negocios. Su uso adecuado permite a los analistas y partes interesadas comprender y mejorar los procesos, aumentando la eficiencia y eficacia operativa en una organización."
   ]
  },
  {
   "cell_type": "markdown",
   "metadata": {},
   "source": [
    "| **Inicio** | **atrás 1** | **Siguiente 3** |\n",
    "|----------- |-------------- |---------------|\n",
    "| [🏠](../README.md) | [⏪](./1_Introduccion_al_Analisis_de_Negocios.ipynb)| [⏩](./3_Recopilacion_y_Analisis_de_Requisitos.ipynb)|"
   ]
  }
 ],
 "metadata": {
  "kernelspec": {
   "display_name": "base",
   "language": "python",
   "name": "python3"
  },
  "language_info": {
   "name": "python",
   "version": "3.9.12"
  }
 },
 "nbformat": 4,
 "nbformat_minor": 2
}
