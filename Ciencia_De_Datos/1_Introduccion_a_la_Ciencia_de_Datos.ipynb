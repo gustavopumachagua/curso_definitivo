{
 "cells": [
  {
   "cell_type": "markdown",
   "metadata": {},
   "source": [
    "| **Inicio** | **Siguiente 2** |\n",
    "|----------- |---------------|\n",
    "| [🏠](../README.md) | [⏩](./2_Manipulacion_de_Datos.ipynb)|"
   ]
  },
  {
   "cell_type": "markdown",
   "metadata": {},
   "source": [
    "# **1. Introducción a la Ciencia de Datos**"
   ]
  },
  {
   "cell_type": "markdown",
   "metadata": {},
   "source": [
    "## **Introducción a la Ciencia de Datos**"
   ]
  },
  {
   "cell_type": "markdown",
   "metadata": {},
   "source": [
    "### **Definiciones y conceptos básicos**"
   ]
  },
  {
   "cell_type": "markdown",
   "metadata": {},
   "source": [
    "1. **Ciencia de Datos:**\n",
    "   - **Definición:** La Ciencia de Datos es un campo interdisciplinario que utiliza métodos científicos, procesos, algoritmos y sistemas para extraer conocimiento y patrones significativos a partir de datos, con el objetivo de informar la toma de decisiones.\n",
    "   - **Ejemplo:** Un analista de datos que examina las ventas pasadas de una empresa para identificar tendencias estacionales y optimizar las estrategias de marketing.\n",
    "\n",
    "2. **Datos:**\n",
    "   - **Definición:** Datos son hechos, observaciones o registros que pueden ser cuantitativos o cualitativos. Pueden incluir números, palabras, imágenes, entre otros.\n",
    "   - **Ejemplo:** Una base de datos que contiene información sobre clientes, incluyendo nombres, edades, preferencias de compra y hábitos de navegación en línea.\n",
    "\n",
    "3. **Minería de Datos:**\n",
    "   - **Definición:** La minería de datos implica descubrir patrones y relaciones significativas en grandes conjuntos de datos utilizando técnicas avanzadas.\n",
    "   - **Ejemplo:** Analizar los patrones de compra de los clientes en un sitio web para identificar asociaciones entre productos y sugerir recomendaciones personalizadas.\n",
    "\n",
    "4. **Machine Learning (Aprendizaje Automático):**\n",
    "   - **Definición:** Es una rama de la Ciencia de Datos que se enfoca en el desarrollo de algoritmos que permiten a las computadoras aprender patrones a partir de datos y realizar tareas sin ser programadas explícitamente.\n",
    "   - **Ejemplo:** Entrenar un modelo de aprendizaje automático para clasificar correos electrónicos como spam o no spam basándose en patrones aprendidos de correos electrónicos anteriores.\n",
    "\n",
    "5. **Análisis Exploratorio de Datos (EDA):**\n",
    "   - **Definición:** EDA implica el examen inicial de datos para resumir sus principales características, a menudo utilizando técnicas gráficas y estadísticas descriptivas.\n",
    "   - **Ejemplo:** Crear histogramas y diagramas de dispersión para explorar la distribución y las relaciones entre variables en un conjunto de datos.\n",
    "\n",
    "6. **Visualización de Datos:**\n",
    "   - **Definición:** Representación gráfica de datos para facilitar la comprensión de patrones, tendencias y relaciones.\n",
    "   - **Ejemplo:** Crear un gráfico de líneas para mostrar la evolución de las ventas trimestrales a lo largo de varios años.\n",
    "\n",
    "7. **Big Data:**\n",
    "   - **Definición:** Se refiere a conjuntos de datos extremadamente grandes y complejos que superan la capacidad de las herramientas de procesamiento de datos convencionales.\n",
    "   - **Ejemplo:** Analizar grandes volúmenes de datos de redes sociales en tiempo real para identificar eventos virales o tendencias emergentes.\n",
    "\n",
    "8. **Predicción y Modelado:**\n",
    "   - **Definición:** Utilización de modelos estadísticos y algoritmos de aprendizaje automático para prever resultados futuros basados en datos históricos.\n",
    "   - **Ejemplo:** Utilizar un modelo de regresión para predecir las ventas futuras de un producto en función de variables como la publicidad y el precio.\n",
    "\n",
    "Estos conceptos básicos forman el núcleo de la Ciencia de Datos y se combinan de manera integral para transformar datos en información significativa y valiosa."
   ]
  },
  {
   "cell_type": "markdown",
   "metadata": {},
   "source": [
    "### **Aplicaciones y casos de uso**"
   ]
  },
  {
   "cell_type": "markdown",
   "metadata": {},
   "source": [
    "1. **Recomendaciones Personalizadas:**\n",
    "   - **Aplicación:** Plataformas de streaming, comercio electrónico.\n",
    "   - **Ejemplo:** Netflix utiliza algoritmos de recomendación basados en el historial de visualización para sugerir contenido personalizado a los usuarios.\n",
    "\n",
    "2. **Detección de Fraudes Financieros:**\n",
    "   - **Aplicación:** Industria financiera.\n",
    "   - **Ejemplo:** Los algoritmos de aprendizaje automático analizan patrones de transacciones para identificar actividades inusuales y prevenir fraudes en tarjetas de crédito.\n",
    "\n",
    "3. **Salud Predictiva:**\n",
    "   - **Aplicación:** Atención médica.\n",
    "   - **Ejemplo:** Análisis de datos de pacientes para predecir el riesgo de desarrollar ciertas enfermedades, permitiendo intervenciones preventivas.\n",
    "\n",
    "4. **Optimización de Cadenas de Suministro:**\n",
    "   - **Aplicación:** Logística y gestión de inventarios.\n",
    "   - **Ejemplo:** Utilizar modelos predictivos para prever la demanda y optimizar los niveles de inventario, reduciendo costos y mejorando la eficiencia.\n",
    "\n",
    "5. **Análisis de Sentimientos en Redes Sociales:**\n",
    "   - **Aplicación:** Marketing y gestión de marca.\n",
    "   - **Ejemplo:** Analizar comentarios en redes sociales para medir la percepción del público sobre un producto o marca y ajustar las estrategias de marketing en consecuencia.\n",
    "\n",
    "6. **Mantenimiento Predictivo:**\n",
    "   - **Aplicación:** Industria manufacturera.\n",
    "   - **Ejemplo:** Utilizar sensores y datos históricos para prever fallos en maquinaria, permitiendo el mantenimiento antes de que ocurran problemas graves.\n",
    "\n",
    "7. **Diagnóstico Médico Asistido por Computadora:**\n",
    "   - **Aplicación:** Medicina.\n",
    "   - **Ejemplo:** Utilizar algoritmos de aprendizaje automático para analizar imágenes médicas y ayudar en el diagnóstico de enfermedades como el cáncer.\n",
    "\n",
    "8. **Optimización de Publicidad Digital:**\n",
    "   - **Aplicación:** Marketing en línea.\n",
    "   - **Ejemplo:** Utilizar análisis de datos para identificar el comportamiento de los usuarios y personalizar las campañas publicitarias, mejorando la eficacia de los anuncios.\n",
    "\n",
    "9. **Ciudades Inteligentes:**\n",
    "   - **Aplicación:** Planificación urbana.\n",
    "   - **Ejemplo:** Analizar datos de tráfico, sensores y patrones de uso para mejorar la gestión del tráfico, optimizar el transporte público y reducir la congestión en las ciudades.\n",
    "\n",
    "10. **Análisis de Texto y Procesamiento del Lenguaje Natural (NLP):**\n",
    "    - **Aplicación:** Servicios de atención al cliente, análisis de opiniones.\n",
    "    - **Ejemplo:** Utilizar NLP para analizar opiniones de clientes en reseñas y comentarios, identificando áreas de mejora en productos o servicios.\n",
    "\n",
    "11. **Gestión de Recursos Humanos:**\n",
    "    - **Aplicación:** Selección de personal, retención de empleados.\n",
    "    - **Ejemplo:** Utilizar análisis de datos para identificar patrones en el desempeño de los empleados y prever posibles renuncias, facilitando la toma de decisiones estratégicas.\n",
    "\n",
    "12. **Criminología Predictiva:**\n",
    "    - **Aplicación:** Seguridad pública.\n",
    "    - **Ejemplo:** Utilizar datos históricos y patrones de crimen para predecir áreas de mayor riesgo y asignar recursos policiales de manera más eficiente.\n",
    "\n",
    "Estas aplicaciones muestran la versatilidad de la Ciencia de Datos en diversos sectores, mejorando la toma de decisiones y generando valor a partir de datos."
   ]
  },
  {
   "cell_type": "markdown",
   "metadata": {},
   "source": [
    "## **Entorno de Desarrollo**"
   ]
  },
  {
   "cell_type": "markdown",
   "metadata": {},
   "source": [
    "### **Configuración de Python y Jupyter Notebooks**"
   ]
  },
  {
   "cell_type": "markdown",
   "metadata": {},
   "source": [
    "La configuración de Python y Jupyter Notebooks es esencial para comenzar a trabajar en proyectos de Ciencia de Datos. Aquí tienes una explicación detallada con ejemplos:\n",
    "\n",
    "**1. Instalación de Python y Jupyter:**\n",
    "\n",
    "**a. Instalación de Python:**\n",
    "\n",
    "Para configurar Python, puedes utilizar el administrador de paquetes de tu sistema operativo o instalar un paquete de distribución como Anaconda. Para instalar Python mediante Anaconda, sigue estos pasos:\n",
    "\n",
    "1. Descarga Anaconda desde [https://www.anaconda.com/products/distribution](https://www.anaconda.com/products/distribution).\n",
    "2. Sigue las instrucciones del instalador.\n",
    "\n",
    "**b. Instalación de Jupyter Notebook:**\n",
    "\n",
    "Después de instalar Python, puedes instalar Jupyter Notebook con el siguiente comando en la terminal o el símbolo del sistema:\n",
    "\n",
    "```bash\n",
    "pip install notebook\n",
    "```\n",
    "\n",
    "**2. Iniciar Jupyter Notebook:**\n",
    "\n",
    "1. Abre la terminal o el símbolo del sistema.\n",
    "2. Navega al directorio donde quieres crear tus notebooks.\n",
    "3. Ejecuta el siguiente comando:\n",
    "\n",
    "```bash\n",
    "jupyter notebook\n",
    "```\n",
    "\n",
    "Esto abrirá una nueva ventana del navegador con el entorno de Jupyter.\n",
    "\n",
    "**3. Crear un Nuevo Notebook:**\n",
    "\n",
    "1. En la interfaz de Jupyter, haz clic en \"New\" y selecciona \"Python 3\" para crear un nuevo notebook.\n",
    "2. Esto abrirá un nuevo cuaderno interactivo.\n",
    "\n",
    "**4. Ejecutar Código en Jupyter:**\n",
    "\n",
    "En un notebook, puedes escribir y ejecutar código en celdas. Por ejemplo, puedes escribir:"
   ]
  },
  {
   "cell_type": "code",
   "execution_count": 1,
   "metadata": {},
   "outputs": [
    {
     "name": "stdout",
     "output_type": "stream",
     "text": [
      "Hola, Mundo!\n"
     ]
    }
   ],
   "source": [
    "# Esta es una celda de código en Python\n",
    "print(\"Hola, Mundo!\")"
   ]
  },
  {
   "cell_type": "markdown",
   "metadata": {},
   "source": [
    "Para ejecutar la celda, puedes presionar Shift + Enter.\n",
    "\n",
    "**5. Instalación de Bibliotecas de Ciencia de Datos:**\n",
    "\n",
    "Python tiene muchas bibliotecas poderosas para Ciencia de Datos. Puedes instalarlas con el administrador de paquetes `pip`. Por ejemplo, para instalar `pandas` y `matplotlib`, ejecuta:\n",
    "\n",
    "```bash\n",
    "pip install pandas matplotlib\n",
    "```\n",
    "\n",
    "**6. Ejemplo de Análisis de Datos con Pandas y Matplotlib:**\n",
    "\n",
    "En tu notebook, puedes realizar un análisis de datos básico con Pandas y visualización con Matplotlib:"
   ]
  },
  {
   "cell_type": "code",
   "execution_count": 1,
   "metadata": {},
   "outputs": [
    {
     "data": {
      "image/png": "[encoded data removed]",
      "text/plain": [
       "<Figure size 1000x600 with 1 Axes>"
      ]
     },
     "metadata": {},
     "output_type": "display_data"
    }
   ],
   "source": [
    "import pandas as pd\n",
    "import matplotlib.pyplot as plt\n",
    "\n",
    "# Crear un DataFrame de ejemplo\n",
    "data = {'Nombre': ['Juan', 'María', 'Ana', 'Pedro'],\n",
    "        'Edad': [25, 30, 22, 35],\n",
    "        'Puntuación': [80, 90, 75, 85]}\n",
    "\n",
    "df = pd.DataFrame(data)\n",
    "\n",
    "# Personalizar la gráfica\n",
    "plt.figure(figsize=(10, 6))  # Tamaño de la figura\n",
    "bars = plt.bar(df['Nombre'], df['Puntuación'], color=['blue', 'green', 'orange', 'red'], edgecolor='black')  # Colores de las barras y borde negro\n",
    "\n",
    "# Etiquetas en las barras\n",
    "for bar in bars:\n",
    "    yval = bar.get_height()\n",
    "    plt.text(bar.get_x() + bar.get_width()/2, yval + 2, round(yval, 2), ha='center', va='bottom')\n",
    "\n",
    "plt.title('Puntuación por Persona', fontsize=16)  # Título con tamaño de fuente\n",
    "plt.xlabel('Nombre', fontsize=12)  # Etiqueta del eje x con tamaño de fuente\n",
    "plt.ylabel('Puntuación', fontsize=12)  # Etiqueta del eje y con tamaño de fuente\n",
    "plt.ylim(0, 100)  # Rango del eje y\n",
    "plt.grid(axis='y', linestyle='-', alpha=0.5)  # Líneas de la cuadrícula en el eje y\n",
    "\n",
    "# Agregar leyenda\n",
    "plt.legend(['Puntuación'], loc='upper right')\n",
    "\n",
    "# Mostrar la gráfica\n",
    "plt.show()"
   ]
  },
  {
   "cell_type": "markdown",
   "metadata": {},
   "source": [
    "**7. Guardar y Compartir Notebooks:**\n",
    "\n",
    "Puedes guardar tu trabajo en el notebook y compartirlo. Para guardar, utiliza Ctrl + S. Para exportar a diferentes formatos, como HTML o PDF, puedes usar la opción de exportación en el menú.\n",
    "\n",
    "Con estos pasos, has configurado un entorno básico de Ciencia de Datos en Python utilizando Jupyter Notebooks. Este entorno te permitirá explorar datos, realizar análisis y visualizaciones, y construir modelos de aprendizaje automático."
   ]
  },
  {
   "cell_type": "markdown",
   "metadata": {},
   "source": [
    "### **Uso básico de bibliotecas como NumPy y Pandas**"
   ]
  },
  {
   "cell_type": "markdown",
   "metadata": {},
   "source": [
    "**NumPy:**\n",
    "\n",
    "NumPy es una biblioteca fundamental para operaciones numéricas en Python, especialmente en el contexto de Ciencia de Datos. Proporciona estructuras de datos como arreglos y matrices, junto con funciones para operar con estos datos de manera eficiente.\n",
    "\n",
    "**1. Instalación de NumPy:**\n",
    "\n",
    "Si aún no tienes NumPy instalado, puedes hacerlo utilizando:\n",
    "\n",
    "```bash\n",
    "pip install numpy\n",
    "```\n",
    "\n",
    "**2. Uso Básico:**"
   ]
  },
  {
   "cell_type": "code",
   "execution_count": 3,
   "metadata": {},
   "outputs": [
    {
     "name": "stdout",
     "output_type": "stream",
     "text": [
      "[1 2 3 4 5]\n"
     ]
    }
   ],
   "source": [
    "import numpy as np\n",
    "\n",
    "# Crear un arreglo de una dimensión\n",
    "arr1d = np.array([1, 2, 3, 4, 5])\n",
    "print(arr1d)"
   ]
  },
  {
   "cell_type": "code",
   "execution_count": 4,
   "metadata": {},
   "outputs": [
    {
     "name": "stdout",
     "output_type": "stream",
     "text": [
      "[[1 2 3]\n",
      " [4 5 6]\n",
      " [7 8 9]]\n"
     ]
    }
   ],
   "source": [
    "# Crear una matriz de dos dimensiones\n",
    "arr2d = np.array([[1, 2, 3], [4, 5, 6], [7, 8, 9]])\n",
    "print(arr2d)"
   ]
  },
  {
   "cell_type": "code",
   "execution_count": 5,
   "metadata": {},
   "outputs": [
    {
     "name": "stdout",
     "output_type": "stream",
     "text": [
      "[11 12 13 14 15]\n",
      "[[ 2  4  6]\n",
      " [ 8 10 12]\n",
      " [14 16 18]]\n"
     ]
    }
   ],
   "source": [
    "# Operaciones numéricas con NumPy\n",
    "arr_sum = arr1d + 10\n",
    "arr_product = arr2d * 2\n",
    "print(arr_sum)\n",
    "print(arr_product)"
   ]
  },
  {
   "cell_type": "code",
   "execution_count": 6,
   "metadata": {},
   "outputs": [
    {
     "name": "stdout",
     "output_type": "stream",
     "text": [
      "[1.         1.41421356 1.73205081 2.         2.23606798]\n",
      "5.0\n"
     ]
    }
   ],
   "source": [
    "# Funciones matemáticas\n",
    "arr_sqrt = np.sqrt(arr1d)\n",
    "arr_mean = np.mean(arr2d)\n",
    "print(arr_sqrt)\n",
    "print(arr_mean)"
   ]
  },
  {
   "cell_type": "code",
   "execution_count": 7,
   "metadata": {},
   "outputs": [
    {
     "name": "stdout",
     "output_type": "stream",
     "text": [
      "3\n",
      "[2 5 8]\n"
     ]
    }
   ],
   "source": [
    "# Indexación y selección de elementos\n",
    "element = arr1d[2]\n",
    "subset = arr2d[:, 1]\n",
    "print(element)\n",
    "print(subset)"
   ]
  },
  {
   "cell_type": "code",
   "execution_count": 8,
   "metadata": {},
   "outputs": [
    {
     "name": "stdout",
     "output_type": "stream",
     "text": [
      "[[ 14  32  50]\n",
      " [ 32  77 122]\n",
      " [ 50 122 194]]\n"
     ]
    }
   ],
   "source": [
    "# Operaciones de álgebra lineal\n",
    "matrix_product = np.dot(arr2d, np.transpose(arr2d))\n",
    "print(matrix_product)"
   ]
  },
  {
   "cell_type": "markdown",
   "metadata": {},
   "source": [
    "**Pandas:**\n",
    "\n",
    "Pandas es una biblioteca construida sobre NumPy y proporciona estructuras de datos de alto nivel llamadas `Series` y `DataFrame`. Es especialmente útil para manipulación y análisis de datos.\n",
    "\n",
    "**1. Instalación de Pandas:**\n",
    "\n",
    "Si aún no tienes Pandas instalado, puedes hacerlo utilizando:\n",
    "\n",
    "```bash\n",
    "pip install pandas\n",
    "```\n",
    "\n",
    "**2. Uso Básico:**"
   ]
  },
  {
   "cell_type": "code",
   "execution_count": 9,
   "metadata": {},
   "outputs": [
    {
     "name": "stdout",
     "output_type": "stream",
     "text": [
      "a    10\n",
      "b    20\n",
      "c    30\n",
      "d    40\n",
      "dtype: int64\n"
     ]
    }
   ],
   "source": [
    "import pandas as pd\n",
    "\n",
    "# Crear una Serie\n",
    "serie = pd.Series([10, 20, 30, 40], index=['a', 'b', 'c', 'd'])\n",
    "print(serie)"
   ]
  },
  {
   "cell_type": "code",
   "execution_count": 10,
   "metadata": {},
   "outputs": [
    {
     "name": "stdout",
     "output_type": "stream",
     "text": [
      "  Nombre  Edad  Puntuación\n",
      "0   Juan    25          80\n",
      "1  María    30          90\n",
      "2    Ana    22          75\n"
     ]
    }
   ],
   "source": [
    "# Crear un DataFrame\n",
    "data = {'Nombre': ['Juan', 'María', 'Ana'],\n",
    "        'Edad': [25, 30, 22],\n",
    "        'Puntuación': [80, 90, 75]}\n",
    "\n",
    "df = pd.DataFrame(data)\n",
    "print(df)"
   ]
  },
  {
   "cell_type": "code",
   "execution_count": 11,
   "metadata": {},
   "outputs": [
    {
     "name": "stdout",
     "output_type": "stream",
     "text": [
      "0     Juan\n",
      "1    María\n",
      "2      Ana\n",
      "Name: Nombre, dtype: object\n",
      "0    80\n",
      "1    90\n",
      "2    75\n",
      "Name: Puntuación, dtype: int64\n",
      "Nombre        María\n",
      "Edad             30\n",
      "Puntuación       90\n",
      "Name: 1, dtype: object\n"
     ]
    }
   ],
   "source": [
    "# Acceder a columnas y filas\n",
    "nombres = df['Nombre']\n",
    "puntuaciones = df['Puntuación']\n",
    "fila_maria = df.loc[1]\n",
    "print(nombres)\n",
    "print(puntuaciones)\n",
    "print(fila_maria)"
   ]
  },
  {
   "cell_type": "code",
   "execution_count": 12,
   "metadata": {},
   "outputs": [
    {
     "name": "stdout",
     "output_type": "stream",
     "text": [
      "  Nombre  Edad  Puntuación\n",
      "1  María    30          90\n"
     ]
    }
   ],
   "source": [
    "# Operaciones de filtrado\n",
    "mayores_de_25 = df[df['Edad'] > 25]\n",
    "print(mayores_de_25)"
   ]
  },
  {
   "cell_type": "code",
   "execution_count": 13,
   "metadata": {},
   "outputs": [
    {
     "name": "stdout",
     "output_type": "stream",
     "text": [
      "81.66666666666667\n",
      "77\n"
     ]
    }
   ],
   "source": [
    "# Operaciones estadísticas\n",
    "media_puntuaciones = df['Puntuación'].mean()\n",
    "suma_edades = df['Edad'].sum()\n",
    "print(media_puntuaciones)\n",
    "print(suma_edades)"
   ]
  },
  {
   "cell_type": "code",
   "execution_count": 14,
   "metadata": {},
   "outputs": [],
   "source": [
    "# Importar y exportar datos\n",
    "df.to_csv('../../data/datos.csv', index=False)\n",
    "df_importado = pd.read_csv('../../data/datos.csv')"
   ]
  },
  {
   "cell_type": "markdown",
   "metadata": {},
   "source": [
    "Estos son solo ejemplos básicos. NumPy y Pandas ofrecen una amplia gama de funciones para realizar operaciones avanzadas en Ciencia de Datos, como manipulación de datos, limpieza, análisis exploratorio y preparación de datos para el modelado. Estas bibliotecas son fundamentales en el kit de herramientas de cualquier científico de datos en Python."
   ]
  },
  {
   "cell_type": "markdown",
   "metadata": {},
   "source": [
    "## **Estadísticas Descriptivas y Visualización de Datos**"
   ]
  },
  {
   "cell_type": "markdown",
   "metadata": {},
   "source": [
    "### **Estadísticas descriptivas básicas**"
   ]
  },
  {
   "cell_type": "markdown",
   "metadata": {},
   "source": [
    "Las estadísticas descriptivas son métodos que se utilizan para resumir, organizar y presentar datos de manera significativa. Proporcionan una visión general del comportamiento de los datos y son esenciales en la exploración inicial de un conjunto de datos. Aquí hay algunas estadísticas descriptivas básicas junto con ejemplos y gráficos:\n",
    "\n",
    "**1. Medidas de Tendencia Central:**\n",
    "\n",
    "**a. Media:**\n",
    "\n",
    "La media es el promedio de todos los valores en un conjunto de datos.\n",
    "\n",
    "$\\text{Media} = \\frac{\\text{Suma de todos los valores}}{\\text{Número de valores}}$"
   ]
  },
  {
   "cell_type": "code",
   "execution_count": 15,
   "metadata": {},
   "outputs": [
    {
     "name": "stdout",
     "output_type": "stream",
     "text": [
      "Media: 20.0\n"
     ]
    }
   ],
   "source": [
    "import numpy as np\n",
    "\n",
    "data = np.array([10, 15, 20, 25, 30])\n",
    "media = np.mean(data)\n",
    "print(\"Media:\", media)"
   ]
  },
  {
   "cell_type": "markdown",
   "metadata": {},
   "source": [
    "**b. Mediana:**\n",
    "\n",
    "La mediana es el valor que se encuentra en el centro de un conjunto de datos ordenado."
   ]
  },
  {
   "cell_type": "code",
   "execution_count": 16,
   "metadata": {},
   "outputs": [
    {
     "name": "stdout",
     "output_type": "stream",
     "text": [
      "Mediana: 20.0\n"
     ]
    }
   ],
   "source": [
    "mediana = np.median(data)\n",
    "print(\"Mediana:\", mediana)"
   ]
  },
  {
   "cell_type": "markdown",
   "metadata": {},
   "source": [
    "**c. Moda:**\n",
    "\n",
    "La moda es el valor que aparece con mayor frecuencia en un conjunto de datos."
   ]
  },
  {
   "cell_type": "code",
   "execution_count": 17,
   "metadata": {},
   "outputs": [
    {
     "name": "stdout",
     "output_type": "stream",
     "text": [
      "Moda: 10\n"
     ]
    }
   ],
   "source": [
    "from scipy import stats\n",
    "\n",
    "moda_result = stats.mode(data)\n",
    "\n",
    "# Acceder a las modas (puede haber más de una)\n",
    "modas = moda_result.mode\n",
    "print(\"Moda:\", modas)"
   ]
  },
  {
   "cell_type": "markdown",
   "metadata": {},
   "source": [
    "**2. Medidas de Dispersión:**\n",
    "\n",
    "**a. Rango:**\n",
    "\n",
    "El rango es la diferencia entre el valor máximo y el valor mínimo en un conjunto de datos."
   ]
  },
  {
   "cell_type": "markdown",
   "metadata": {},
   "source": [
    "El rango en estadísticas es una medida de dispersión que representa la diferencia entre el valor máximo y el valor mínimo en un conjunto de datos. Matemáticamente, el rango $(R)$ se calcula mediante la siguiente fórmula:\n",
    "\n",
    "$R = \\text{Valor Máximo} - \\text{Valor Mínimo}$\n",
    "\n",
    "Donde:\n",
    "\n",
    "- $(\\text{Valor Máximo})$ es el valor más grande en el conjunto de datos.\n",
    "- $(\\text{Valor Mínimo})$ es el valor más pequeño en el conjunto de datos.\n",
    "\n",
    "El rango proporciona una indicación de cuán dispersos están los datos. Sin embargo, es sensible a valores extremos, ya que se basa únicamente en dos observaciones (el máximo y el mínimo). Otros estadísticos de dispersión, como la desviación estándar o el rango intercuartílico, pueden ser más robustos en presencia de valores atípicos."
   ]
  },
  {
   "cell_type": "code",
   "execution_count": 18,
   "metadata": {},
   "outputs": [
    {
     "name": "stdout",
     "output_type": "stream",
     "text": [
      "Rango: 20\n"
     ]
    }
   ],
   "source": [
    "rango = np.max(data) - np.min(data)\n",
    "print(\"Rango:\", rango)"
   ]
  },
  {
   "cell_type": "markdown",
   "metadata": {},
   "source": [
    "**b. Desviación Estándar:**\n",
    "\n",
    "La desviación estándar mide la dispersión de los datos alrededor de la media."
   ]
  },
  {
   "cell_type": "markdown",
   "metadata": {},
   "source": [
    "La desviación estándar es una medida de dispersión en estadísticas que indica cuánto se desvían los valores individuales de la media del conjunto de datos. Matemáticamente, la desviación estándar $(\\sigma)$ para una población o $(s)$ para una muestra se calcula utilizando la siguiente fórmula:\n",
    "\n",
    "**Para una Población:**\n",
    "\n",
    "\n",
    "$\\sigma = \\sqrt{\\frac{\\sum_{i=1}^{N}(X_i - \\mu)^2}{N}}$\n",
    "\n",
    "**Para una Muestra:**\n",
    "\n",
    "\n",
    "$s = \\sqrt{\\frac{\\sum_{i=1}^{n}(X_i - \\bar{X})^2}{n-1}}$\n",
    "\n",
    "Donde:\n",
    "\n",
    "- $(X_i)$ es cada valor individual en el conjunto de datos.\n",
    "- $(\\mu)$ es la media de la población.\n",
    "- $(\\bar{X})$ es la media de la muestra.\n",
    "- $(N)$ es el número total de elementos en la población.\n",
    "- $(n)$ es el número total de elementos en la muestra.\n",
    "\n",
    "La desviación estándar se obtiene calculando la raíz cuadrada de la varianza. La varianza es la media de los cuadrados de las diferencias entre cada valor y la media. La raíz cuadrada se toma para devolver la medida a la misma escala que los datos originales. La desviación estándar es una medida importante en estadísticas, ya que proporciona una indicación de la dispersión típica de los valores en un conjunto de datos."
   ]
  },
  {
   "cell_type": "code",
   "execution_count": 19,
   "metadata": {},
   "outputs": [
    {
     "name": "stdout",
     "output_type": "stream",
     "text": [
      "Desviación Estándar: 7.0710678118654755\n"
     ]
    }
   ],
   "source": [
    "desviacion_estandar = np.std(data)\n",
    "print(\"Desviación Estándar:\", desviacion_estandar)"
   ]
  },
  {
   "cell_type": "markdown",
   "metadata": {},
   "source": [
    "**c. Varianza:**\n",
    "\n",
    "La varianza es el cuadrado de la desviación estándar y proporciona una medida más precisa de la dispersión."
   ]
  },
  {
   "cell_type": "markdown",
   "metadata": {},
   "source": [
    "La fórmula de la varianza (y, por extensión, de la desviación estándar) es una medida de dispersión que cuantifica la variabilidad o la propagación de un conjunto de datos. La varianza se representa por $(\\sigma^2)$ para una población y $(s^2)$ para una muestra.\n",
    "\n",
    "**Para una Población:**\n",
    "\n",
    "$\\sigma^2 = \\frac{\\sum_{i=1}^{N}(X_i - \\mu)^2}{N}$\n",
    "\n",
    "**Para una Muestra:**\n",
    "\n",
    "$s^2 = \\frac{\\sum_{i=1}^{n}(X_i - \\bar{X})^2}{n-1}$\n",
    "\n",
    "Donde:\n",
    "\n",
    "- $(X_i)$ es cada valor individual en el conjunto de datos.\n",
    "- $(\\mu)$  es la media de la población.\n",
    "- $(\\bar{X})$  es la media de la muestra.\n",
    "- $(N)$ es el número total de elementos en la población.\n",
    "- $(n)$ es el número total de elementos en la muestra.\n",
    "\n",
    "La varianza se calcula tomando la media de los cuadrados de las diferencias entre cada valor y la media. Para obtener la desviación estándar $(\\sigma)$ para población o $(s)$ para muestra, simplemente toma la raíz cuadrada de la varianza:\n",
    "\n",
    "**Para una Población:**\n",
    "\n",
    "$\\sigma = \\sqrt{\\sigma^2}$\n",
    "\n",
    "**Para una Muestra:**\n",
    "\n",
    "$s = \\sqrt{s^2}$\n",
    "\n",
    "Ambas medidas, la varianza y la desviación estándar, proporcionan información sobre la dispersión de los datos en relación con la media. Sin embargo, la desviación estándar tiene la ventaja de estar en la misma escala que los datos originales, lo que facilita su interpretación."
   ]
  },
  {
   "cell_type": "code",
   "execution_count": 20,
   "metadata": {},
   "outputs": [
    {
     "name": "stdout",
     "output_type": "stream",
     "text": [
      "Varianza: 50.0\n"
     ]
    }
   ],
   "source": [
    "varianza = np.var(data)\n",
    "print(\"Varianza:\", varianza)"
   ]
  },
  {
   "cell_type": "markdown",
   "metadata": {},
   "source": [
    "**3. Gráficos Descriptivos:**\n",
    "\n",
    "**a. Histograma:**\n",
    "\n",
    "Un histograma es una representación visual de la distribución de un conjunto de datos."
   ]
  },
  {
   "cell_type": "code",
   "execution_count": 21,
   "metadata": {},
   "outputs": [
    {
     "data": {
      "image/png": "[encoded data removed]",
      "text/plain": [
       "<Figure size 640x480 with 1 Axes>"
      ]
     },
     "metadata": {},
     "output_type": "display_data"
    }
   ],
   "source": [
    "import matplotlib.pyplot as plt\n",
    "\n",
    "# Datos de ejemplo\n",
    "data = [10, 15, 20, 25, 30, 20, 25, 20, 15, 10, 35]\n",
    "\n",
    "# Personalización del histograma\n",
    "plt.hist(data, bins=5, color='skyblue', edgecolor='black', alpha=0.7)  # alpha controla la transparencia\n",
    "plt.title(\"Histograma Personalizado\", fontsize=16)\n",
    "plt.xlabel(\"Valores\", fontsize=12)\n",
    "plt.ylabel(\"Frecuencia\", fontsize=12)\n",
    "plt.grid(axis='y', linestyle='--', alpha=0.7)  # Líneas de la cuadrícula en el eje y\n",
    "\n",
    "# Añadir etiquetas a las barras\n",
    "for i in range(len(plt.hist(data, bins=5, color='skyblue', edgecolor='black', alpha=0.7)[0])):\n",
    "    plt.text(plt.hist(data, bins=5, color='skyblue', edgecolor='black', alpha=0.7)[1][i] + 1,  # Posición x\n",
    "             plt.hist(data, bins=5, color='skyblue', edgecolor='black', alpha=0.7)[0][i],  # Posición y\n",
    "             str(plt.hist(data, bins=5, color='skyblue', edgecolor='black', alpha=0.7)[0][i]),  # Etiqueta\n",
    "             fontsize=10, ha='center', va='bottom')\n",
    "\n",
    "# Mostrar el histograma\n",
    "plt.show()"
   ]
  },
  {
   "cell_type": "markdown",
   "metadata": {},
   "source": [
    "**b. Diagrama de Caja (Boxplot):**\n",
    "\n",
    "Un diagrama de caja proporciona una representación visual de la distribución, destacando la mediana, los cuartiles y los valores atípicos."
   ]
  },
  {
   "cell_type": "code",
   "execution_count": 22,
   "metadata": {},
   "outputs": [
    {
     "data": {
      "image/png": "[encoded data removed]",
      "text/plain": [
       "<Figure size 640x480 with 1 Axes>"
      ]
     },
     "metadata": {},
     "output_type": "display_data"
    }
   ],
   "source": [
    "import matplotlib.pyplot as plt\n",
    "\n",
    "# Datos de ejemplo\n",
    "data = [10, 15, 20, 25, 30, 20, 25, 20, 15, 10, 35]\n",
    "\n",
    "# Personalización del diagrama de caja\n",
    "plt.boxplot(data, vert=False, notch=True, patch_artist=True, widths=0.6, boxprops=dict(facecolor='lightblue'))  \n",
    "# notch agrega una muesca, patch_artist rellena las cajas, widths ajusta el ancho de las cajas\n",
    "\n",
    "plt.title(\"Diagrama de Caja Personalizado\", fontsize=16)\n",
    "plt.xlabel(\"Valores\", fontsize=12)\n",
    "\n",
    "# Mostrar el diagrama de caja\n",
    "plt.show()"
   ]
  },
  {
   "cell_type": "markdown",
   "metadata": {},
   "source": [
    "Estas estadísticas y gráficos descriptivos básicos son herramientas fundamentales para comprender la naturaleza y la distribución de los datos. Pueden ayudar a identificar patrones, valores atípicos y proporcionar información valiosa para la toma de decisiones en análisis de datos."
   ]
  },
  {
   "cell_type": "markdown",
   "metadata": {},
   "source": [
    "### **Creación de gráficos con Matplotlib y Seaborn**"
   ]
  },
  {
   "cell_type": "markdown",
   "metadata": {},
   "source": [
    "**Estadísticas Descriptivas con NumPy y Pandas:**\n",
    "\n",
    "**1. Medidas de Tendencia Central:**"
   ]
  },
  {
   "cell_type": "code",
   "execution_count": 23,
   "metadata": {},
   "outputs": [
    {
     "name": "stdout",
     "output_type": "stream",
     "text": [
      "Media: 20.454545454545453\n",
      "Mediana: 20.0\n",
      "Moda: 20\n",
      "Descripción Estadística:\n",
      "               0\n",
      "count  11.000000\n",
      "mean   20.454545\n",
      "std     7.891307\n",
      "min    10.000000\n",
      "25%    15.000000\n",
      "50%    20.000000\n",
      "75%    25.000000\n",
      "max    35.000000\n"
     ]
    }
   ],
   "source": [
    "from scipy import stats\n",
    "\n",
    "# Datos de ejemplo\n",
    "data = np.array([10, 15, 20, 25, 30, 20, 25, 20, 15, 10, 35])\n",
    "\n",
    "# Media\n",
    "media = np.mean(data)\n",
    "\n",
    "# Mediana\n",
    "mediana = np.median(data)\n",
    "\n",
    "# Moda\n",
    "moda_result = stats.mode(data)\n",
    "\n",
    "# Manejar múltiples modas o ninguna moda\n",
    "modas = moda_result.mode\n",
    "if isinstance(modas, np.ndarray):  # Verificar si hay múltiples modas\n",
    "    moda = modas[0]  # Tomar la primera moda\n",
    "else:\n",
    "    moda = modas  # Tomar la única moda o None si no hay moda\n",
    "\n",
    "# Descripción estadística con Pandas\n",
    "descripcion_estadistica = pd.DataFrame(data).describe()\n",
    "\n",
    "print(\"Media:\", media)\n",
    "print(\"Mediana:\", mediana)\n",
    "print(\"Moda:\", moda)\n",
    "print(\"Descripción Estadística:\")\n",
    "print(descripcion_estadistica)"
   ]
  },
  {
   "cell_type": "markdown",
   "metadata": {},
   "source": [
    "**2. Medidas de Dispersión:**"
   ]
  },
  {
   "cell_type": "code",
   "execution_count": 24,
   "metadata": {},
   "outputs": [
    {
     "name": "stdout",
     "output_type": "stream",
     "text": [
      "Rango: 25\n",
      "Desviación Estándar: 7.52406607147584\n",
      "Varianza: 56.611570247933884\n"
     ]
    }
   ],
   "source": [
    "# Rango\n",
    "rango = np.max(data) - np.min(data)\n",
    "\n",
    "# Desviación Estándar\n",
    "desviacion_estandar = np.std(data)\n",
    "\n",
    "# Varianza\n",
    "varianza = np.var(data)\n",
    "\n",
    "print(\"Rango:\", rango)\n",
    "print(\"Desviación Estándar:\", desviacion_estandar)\n",
    "print(\"Varianza:\", varianza)"
   ]
  },
  {
   "cell_type": "markdown",
   "metadata": {},
   "source": [
    "**Visualización de Datos con Matplotlib y Seaborn:**\n",
    "\n",
    "**1. Histograma con Matplotlib:**"
   ]
  },
  {
   "cell_type": "code",
   "execution_count": 25,
   "metadata": {},
   "outputs": [
    {
     "data": {
      "image/png": "[encoded data removed]",
      "text/plain": [
       "<Figure size 640x480 with 1 Axes>"
      ]
     },
     "metadata": {},
     "output_type": "display_data"
    }
   ],
   "source": [
    "import matplotlib.pyplot as plt\n",
    "\n",
    "# Personalización del histograma\n",
    "plt.hist(data, bins=5, color='skyblue', edgecolor='black', alpha=0.7)\n",
    "# alpha controla la transparencia\n",
    "\n",
    "plt.title(\"Histograma Personalizado\", fontsize=16)\n",
    "plt.xlabel(\"Valores\", fontsize=12)\n",
    "plt.ylabel(\"Frecuencia\", fontsize=12)\n",
    "\n",
    "# Añadir etiquetas a las barras\n",
    "for i in range(len(plt.hist(data, bins=5, color='skyblue', edgecolor='black', alpha=0.7)[0])):\n",
    "    plt.text(plt.hist(data, bins=5, color='skyblue', edgecolor='black', alpha=0.7)[1][i] + 1,\n",
    "             plt.hist(data, bins=5, color='skyblue', edgecolor='black', alpha=0.7)[0][i],\n",
    "             str(plt.hist(data, bins=5, color='skyblue', edgecolor='black', alpha=0.7)[0][i]),\n",
    "             fontsize=10, ha='center', va='bottom')\n",
    "\n",
    "# Mostrar el histograma\n",
    "plt.show()"
   ]
  },
  {
   "cell_type": "markdown",
   "metadata": {},
   "source": [
    "**2. Diagrama de Caja (Boxplot) con Seaborn:**"
   ]
  },
  {
   "cell_type": "code",
   "execution_count": 26,
   "metadata": {},
   "outputs": [
    {
     "data": {
      "image/png": "[encoded data removed]",
      "text/plain": [
       "<Figure size 640x480 with 1 Axes>"
      ]
     },
     "metadata": {},
     "output_type": "display_data"
    }
   ],
   "source": [
    "import seaborn as sns\n",
    "import matplotlib.pyplot as plt\n",
    "\n",
    "# Personalización del diagrama de caja\n",
    "sns.boxplot(x=data, color='lightblue', width=0.3, fliersize=8, showmeans=True, meanprops={\"marker\":\"o\", \"markerfacecolor\":\"white\", \"markeredgecolor\":\"black\"})\n",
    "\n",
    "plt.title(\"Diagrama de Caja Personalizado\", fontsize=16)\n",
    "plt.xlabel(\"Valores\", fontsize=12)\n",
    "\n",
    "# Mostrar el diagrama de caja\n",
    "plt.show()"
   ]
  },
  {
   "cell_type": "markdown",
   "metadata": {},
   "source": [
    "**3. Diagrama de Violín con Seaborn:**"
   ]
  },
  {
   "cell_type": "code",
   "execution_count": 27,
   "metadata": {},
   "outputs": [
    {
     "data": {
      "image/png": "[encoded data removed]",
      "text/plain": [
       "<Figure size 640x480 with 1 Axes>"
      ]
     },
     "metadata": {},
     "output_type": "display_data"
    }
   ],
   "source": [
    "import seaborn as sns\n",
    "import matplotlib.pyplot as plt\n",
    "\n",
    "# Personalización del diagrama de violín\n",
    "sns.violinplot(x=data, color='lightgreen', inner='quartile', bw=0.2)\n",
    "\n",
    "plt.title(\"Diagrama de Violín Personalizado\", fontsize=16)\n",
    "plt.xlabel(\"Valores\", fontsize=12)\n",
    "\n",
    "# Mostrar el diagrama de violín\n",
    "plt.show()"
   ]
  },
  {
   "cell_type": "markdown",
   "metadata": {},
   "source": [
    "**4. Gráfico de Barras con Seaborn:**"
   ]
  },
  {
   "cell_type": "code",
   "execution_count": 28,
   "metadata": {},
   "outputs": [
    {
     "data": {
      "image/png": "[encoded data removed]",
      "text/plain": [
       "<Figure size 640x480 with 1 Axes>"
      ]
     },
     "metadata": {},
     "output_type": "display_data"
    }
   ],
   "source": [
    "import seaborn as sns\n",
    "import matplotlib.pyplot as plt\n",
    "\n",
    "# Datos de ejemplo\n",
    "categorias = ['A', 'B', 'C', 'D']\n",
    "valores = [25, 30, 22, 35]\n",
    "\n",
    "# Crear un DataFrame con los datos\n",
    "df = pd.DataFrame({'Categorías': categorias, 'Valores': valores})\n",
    "\n",
    "# Personalización del gráfico de barras\n",
    "sns.set(style=\"whitegrid\")  # Cambiar el estilo del fondo\n",
    "\n",
    "# Gráfico de barras con Seaborn\n",
    "sns.barplot(x='Categorías', y='Valores', data=df, palette='viridis', edgecolor='black')  \n",
    "# edgecolor agrega bordes a las barras\n",
    "\n",
    "plt.title(\"Gráfico de Barras Personalizado\", fontsize=16)\n",
    "plt.xlabel(\"Categorías\", fontsize=12)\n",
    "plt.ylabel(\"Valores\", fontsize=12)\n",
    "\n",
    "# Añadir etiquetas en las barras\n",
    "for index, value in enumerate(valores):\n",
    "    plt.text(index, value + 0.5, str(value), ha='center', va='bottom', fontsize=10)\n",
    "\n",
    "# Mostrar el gráfico de barras\n",
    "plt.show()"
   ]
  },
  {
   "cell_type": "markdown",
   "metadata": {},
   "source": [
    "Estos ejemplos proporcionan una base sólida para realizar estadísticas descriptivas y visualización de datos en Python utilizando NumPy, Pandas, Matplotlib y Seaborn. Puedes personalizar estos gráficos y análisis según las necesidades específicas de tus datos y preferencias estéticas."
   ]
  },
  {
   "cell_type": "markdown",
   "metadata": {},
   "source": [
    "| **Inicio** | **Siguiente 2** |\n",
    "|----------- |---------------|\n",
    "| [🏠](../README.md) | [⏩](./2_Manipulacion_de_Datos.ipynb)|"
   ]
  }
 ],
 "metadata": {
  "kernelspec": {
   "display_name": "base",
   "language": "python",
   "name": "python3"
  },
  "language_info": {
   "codemirror_mode": {
    "name": "ipython",
    "version": 3
   },
   "file_extension": ".py",
   "mimetype": "text/x-python",
   "name": "python",
   "nbconvert_exporter": "python",
   "pygments_lexer": "ipython3",
   "version": "3.9.12"
  }
 },
 "nbformat": 4,
 "nbformat_minor": 2
}
