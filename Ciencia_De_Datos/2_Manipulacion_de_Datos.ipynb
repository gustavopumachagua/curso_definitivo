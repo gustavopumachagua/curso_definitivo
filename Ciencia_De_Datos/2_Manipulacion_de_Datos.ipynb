{
 "cells": [
  {
   "cell_type": "markdown",
   "metadata": {},
   "source": [
    "| **Inicio** | **atrás 1** | **Siguiente 3** |\n",
    "|----------- |-------------- |---------------|\n",
    "| [🏠](../README.md) | [⏪](./1_Introduccion_a_la_Ciencia_de_Datos.ipynb)| [⏩](./3_Analisis_Estadistico.ipynb)|"
   ]
  },
  {
   "cell_type": "markdown",
   "metadata": {},
   "source": [
    "# **2. Manipulación de Datos**"
   ]
  },
  {
   "cell_type": "markdown",
   "metadata": {},
   "source": [
    "## **Manipulación de Datos con Pandas**"
   ]
  },
  {
   "cell_type": "markdown",
   "metadata": {},
   "source": [
    "### **Filtrado, agrupación y transformación de datos**"
   ]
  },
  {
   "cell_type": "markdown",
   "metadata": {},
   "source": [
    "Para ilustrar el filtrado, agrupación y transformación de datos con Pandas, crearemos un DataFrame con datos ficticios y luego realizaremos ejemplos detallados.\n",
    "\n",
    "**Crear un DataFrame:**"
   ]
  },
  {
   "cell_type": "code",
   "execution_count": 1,
   "metadata": {},
   "outputs": [
    {
     "name": "stdout",
     "output_type": "stream",
     "text": [
      "DataFrame Original:\n",
      "  Nombre  Edad Género  Puntuación\n",
      "0   Juan    25      M          80\n",
      "1  María    30      F          90\n",
      "2    Ana    22      F          75\n",
      "3  Pedro    35      M          85\n",
      "4  Elena    28      F          88\n"
     ]
    }
   ],
   "source": [
    "import pandas as pd\n",
    "import numpy as np\n",
    "\n",
    "# Crear un DataFrame de ejemplo\n",
    "data = {'Nombre': ['Juan', 'María', 'Ana', 'Pedro', 'Elena'],\n",
    "        'Edad': [25, 30, 22, 35, 28],\n",
    "        'Género': ['M', 'F', 'F', 'M', 'F'],\n",
    "        'Puntuación': [80, 90, 75, 85, 88]}\n",
    "\n",
    "df = pd.DataFrame(data)\n",
    "print(\"DataFrame Original:\")\n",
    "print(df)"
   ]
  },
  {
   "cell_type": "markdown",
   "metadata": {},
   "source": [
    "**Filtrado de Datos:**\n",
    "\n",
    "**Filtrar por Condición:**"
   ]
  },
  {
   "cell_type": "code",
   "execution_count": 2,
   "metadata": {},
   "outputs": [
    {
     "name": "stdout",
     "output_type": "stream",
     "text": [
      "\n",
      "Personas mayores de 25 años:\n",
      "  Nombre  Edad Género  Puntuación\n",
      "1  María    30      F          90\n",
      "3  Pedro    35      M          85\n",
      "4  Elena    28      F          88\n"
     ]
    }
   ],
   "source": [
    "# Filtrar por personas mayores de 25 años\n",
    "filtro_edad = df['Edad'] > 25\n",
    "personas_mayores = df[filtro_edad]\n",
    "\n",
    "print(\"\\nPersonas mayores de 25 años:\")\n",
    "print(personas_mayores)"
   ]
  },
  {
   "cell_type": "markdown",
   "metadata": {},
   "source": [
    "**Filtrar por Múltiples Condiciones:**"
   ]
  },
  {
   "cell_type": "code",
   "execution_count": 3,
   "metadata": {},
   "outputs": [
    {
     "name": "stdout",
     "output_type": "stream",
     "text": [
      "\n",
      "Mujeres con puntuación mayor a 85:\n",
      "  Nombre  Edad Género  Puntuación\n",
      "1  María    30      F          90\n",
      "4  Elena    28      F          88\n"
     ]
    }
   ],
   "source": [
    "# Filtrar por mujeres con puntuación mayor a 85\n",
    "filtro_mujeres = df['Género'] == 'F'\n",
    "filtro_puntuacion = df['Puntuación'] > 85\n",
    "mujeres_puntuacion_alta = df[filtro_mujeres & filtro_puntuacion]\n",
    "\n",
    "print(\"\\nMujeres con puntuación mayor a 85:\")\n",
    "print(mujeres_puntuacion_alta)"
   ]
  },
  {
   "cell_type": "markdown",
   "metadata": {},
   "source": [
    "**Agrupación de Datos:**\n",
    "\n",
    "**Agrupar por una Columna y Calcular Estadísticas:**"
   ]
  },
  {
   "cell_type": "code",
   "execution_count": 4,
   "metadata": {},
   "outputs": [
    {
     "name": "stdout",
     "output_type": "stream",
     "text": [
      "\n",
      "Media de Puntuación por Género:\n",
      "Género\n",
      "F    84.333333\n",
      "M    82.500000\n",
      "Name: Puntuación, dtype: float64\n"
     ]
    }
   ],
   "source": [
    "# Agrupar por género y calcular la media de la puntuación\n",
    "grupo_genero = df.groupby('Género')\n",
    "media_puntuacion_por_genero = grupo_genero['Puntuación'].mean()\n",
    "\n",
    "print(\"\\nMedia de Puntuación por Género:\")\n",
    "print(media_puntuacion_por_genero)"
   ]
  },
  {
   "cell_type": "markdown",
   "metadata": {},
   "source": [
    "**Transformación de Datos:**\n",
    "\n",
    "**Aplicar una Función a una Columna:**"
   ]
  },
  {
   "cell_type": "code",
   "execution_count": 5,
   "metadata": {},
   "outputs": [
    {
     "name": "stdout",
     "output_type": "stream",
     "text": [
      "\n",
      "DataFrame con Puntuación Incrementada:\n",
      "  Nombre  Edad Género  Puntuación  Puntuación Incrementada\n",
      "0   Juan    25      M          80                       80\n",
      "1  María    30      F          90                       90\n",
      "2    Ana    22      F          75                       75\n",
      "3  Pedro    35      M          85                       90\n",
      "4  Elena    28      F          88                       88\n"
     ]
    }
   ],
   "source": [
    "# Aplicar una función que incrementa la puntuación en 5 a los mayores de 30 años\n",
    "def incrementar_puntuacion(edad, puntuacion):\n",
    "    if edad > 30:\n",
    "        return puntuacion + 5\n",
    "    else:\n",
    "        return puntuacion\n",
    "\n",
    "df['Puntuación Incrementada'] = df.apply(lambda row: incrementar_puntuacion(row['Edad'], row['Puntuación']), axis=1)\n",
    "\n",
    "print(\"\\nDataFrame con Puntuación Incrementada:\")\n",
    "print(df)"
   ]
  },
  {
   "cell_type": "markdown",
   "metadata": {},
   "source": [
    "Estos ejemplos muestran cómo filtrar datos según condiciones, agrupar datos por una columna y realizar cálculos estadísticos, y transformar datos aplicando funciones a columnas específicas. Estas operaciones son esenciales en el análisis y manipulación de datos en Ciencia de Datos."
   ]
  },
  {
   "cell_type": "markdown",
   "metadata": {},
   "source": [
    "### **Manejo de datos faltantes**"
   ]
  },
  {
   "cell_type": "markdown",
   "metadata": {},
   "source": [
    "El manejo de datos faltantes, también conocidos como valores nulos o NaN (Not a Number), es una parte crucial en el proceso de limpieza y preparación de datos. A continuación, te mostraré cómo crear un DataFrame con datos faltantes y cómo abordarlos utilizando Pandas.\n",
    "\n",
    "**Crear un DataFrame con Datos Faltantes:**"
   ]
  },
  {
   "cell_type": "code",
   "execution_count": 6,
   "metadata": {},
   "outputs": [
    {
     "name": "stdout",
     "output_type": "stream",
     "text": [
      "DataFrame Original con Datos Faltantes:\n",
      "  Nombre  Edad Género  Puntuación\n",
      "0   Juan  25.0      M        80.0\n",
      "1  María   NaN      F        90.0\n",
      "2    Ana  22.0    NaN        75.0\n",
      "3    NaN  35.0      M         NaN\n",
      "4  Elena  28.0      F        88.0\n"
     ]
    }
   ],
   "source": [
    "import pandas as pd\n",
    "import numpy as np\n",
    "\n",
    "# Crear un DataFrame de ejemplo con datos faltantes\n",
    "data = {'Nombre': ['Juan', 'María', 'Ana', np.nan, 'Elena'],\n",
    "        'Edad': [25, np.nan, 22, 35, 28],\n",
    "        'Género': ['M', 'F', np.nan, 'M', 'F'],\n",
    "        'Puntuación': [80, 90, 75, np.nan, 88]}\n",
    "\n",
    "df = pd.DataFrame(data)\n",
    "print(\"DataFrame Original con Datos Faltantes:\")\n",
    "print(df)"
   ]
  },
  {
   "cell_type": "markdown",
   "metadata": {},
   "source": [
    "**Identificar y Manejar Datos Faltantes:**\n",
    "\n",
    "**Identificar Datos Faltantes:**"
   ]
  },
  {
   "cell_type": "code",
   "execution_count": 7,
   "metadata": {},
   "outputs": [
    {
     "name": "stdout",
     "output_type": "stream",
     "text": [
      "\n",
      "Datos Faltantes por Columna:\n",
      "Nombre        1\n",
      "Edad          1\n",
      "Género        1\n",
      "Puntuación    1\n",
      "dtype: int64\n"
     ]
    }
   ],
   "source": [
    "# Identificar datos faltantes por columna\n",
    "faltantes_por_columna = df.isnull().sum()\n",
    "\n",
    "print(\"\\nDatos Faltantes por Columna:\")\n",
    "print(faltantes_por_columna)"
   ]
  },
  {
   "cell_type": "markdown",
   "metadata": {},
   "source": [
    "**Eliminar Filas con Datos Faltantes:**"
   ]
  },
  {
   "cell_type": "code",
   "execution_count": 8,
   "metadata": {},
   "outputs": [
    {
     "name": "stdout",
     "output_type": "stream",
     "text": [
      "\n",
      "DataFrame sin Filas con Datos Faltantes:\n",
      "  Nombre  Edad Género  Puntuación\n",
      "0   Juan  25.0      M        80.0\n",
      "4  Elena  28.0      F        88.0\n"
     ]
    }
   ],
   "source": [
    "# Eliminar filas con al menos un dato faltante\n",
    "df_sin_faltantes_filas = df.dropna()\n",
    "\n",
    "print(\"\\nDataFrame sin Filas con Datos Faltantes:\")\n",
    "print(df_sin_faltantes_filas)"
   ]
  },
  {
   "cell_type": "markdown",
   "metadata": {},
   "source": [
    "**Imputar (Llenar) Datos Faltantes:**"
   ]
  },
  {
   "cell_type": "code",
   "execution_count": 9,
   "metadata": {},
   "outputs": [
    {
     "name": "stdout",
     "output_type": "stream",
     "text": [
      "\n",
      "DataFrame con Datos Imputados:\n",
      "  Nombre  Edad Género  Puntuación\n",
      "0   Juan  25.0      M        80.0\n",
      "1  María  27.5      F        90.0\n",
      "2    Ana  22.0    NaN        75.0\n",
      "3    NaN  35.0      M         NaN\n",
      "4  Elena  28.0      F        88.0\n"
     ]
    }
   ],
   "source": [
    "# Imputar la edad faltante con la media de las edades\n",
    "media_edad = df['Edad'].mean()\n",
    "df_imputado = df.copy()\n",
    "df_imputado['Edad'].fillna(media_edad, inplace=True)\n",
    "\n",
    "print(\"\\nDataFrame con Datos Imputados:\")\n",
    "print(df_imputado)"
   ]
  },
  {
   "cell_type": "markdown",
   "metadata": {},
   "source": [
    "**Rellenar con un Valor Específico:**"
   ]
  },
  {
   "cell_type": "code",
   "execution_count": 10,
   "metadata": {},
   "outputs": [
    {
     "name": "stdout",
     "output_type": "stream",
     "text": [
      "\n",
      "DataFrame con Datos Rellenados:\n",
      "  Nombre  Edad           Género  Puntuación\n",
      "0   Juan  25.0                M        80.0\n",
      "1  María   NaN                F        90.0\n",
      "2    Ana  22.0  No Especificado        75.0\n",
      "3    NaN  35.0                M         NaN\n",
      "4  Elena  28.0                F        88.0\n"
     ]
    }
   ],
   "source": [
    "# Rellenar los datos faltantes en la columna 'Género' con 'No Especificado'\n",
    "df_rellenado = df.copy()\n",
    "df_rellenado['Género'].fillna('No Especificado', inplace=True)\n",
    "\n",
    "print(\"\\nDataFrame con Datos Rellenados:\")\n",
    "print(df_rellenado)"
   ]
  },
  {
   "cell_type": "markdown",
   "metadata": {},
   "source": [
    "Estos ejemplos muestran cómo identificar y manejar datos faltantes en un DataFrame. Puedes elegir entre eliminar filas con datos faltantes, imputar valores utilizando la media u otros métodos, o rellenar con un valor específico según el contexto de tus datos y los requisitos de tu análisis."
   ]
  },
  {
   "cell_type": "markdown",
   "metadata": {},
   "source": [
    "## **Operaciones Avanzadas con NumPy y Pandas**"
   ]
  },
  {
   "cell_type": "markdown",
   "metadata": {},
   "source": [
    "### **Operaciones vectorizadas**"
   ]
  },
  {
   "cell_type": "markdown",
   "metadata": {},
   "source": [
    "Las operaciones vectorizadas son una característica clave de bibliotecas como NumPy en Python. Permiten realizar operaciones en matrices o arrays completos de manera eficiente, sin la necesidad de escribir bucles explícitos. Esto mejora la velocidad y la claridad del código. Vamos a explorar algunas operaciones vectorizadas en NumPy con ejemplos y gráficos.\n",
    "\n",
    "**Ejemplos de Operaciones Vectorizadas:**\n",
    "\n",
    "**1. Suma de Dos Arrays:**"
   ]
  },
  {
   "cell_type": "code",
   "execution_count": 11,
   "metadata": {},
   "outputs": [
    {
     "name": "stdout",
     "output_type": "stream",
     "text": [
      "Array A: [1 2 3 4 5]\n",
      "Array B: [5 4 3 2 1]\n",
      "Resultado de la Suma Vectorizada: [6 6 6 6 6]\n"
     ]
    }
   ],
   "source": [
    "import numpy as np\n",
    "import matplotlib.pyplot as plt\n",
    "\n",
    "# Crear dos arrays\n",
    "a = np.array([1, 2, 3, 4, 5])\n",
    "b = np.array([5, 4, 3, 2, 1])\n",
    "\n",
    "# Operación vectorizada: suma\n",
    "suma_vectorizada = a + b\n",
    "\n",
    "# Mostrar los resultados\n",
    "print(\"Array A:\", a)\n",
    "print(\"Array B:\", b)\n",
    "print(\"Resultado de la Suma Vectorizada:\", suma_vectorizada)"
   ]
  },
  {
   "cell_type": "markdown",
   "metadata": {},
   "source": [
    "**2. Producto Escalar:**"
   ]
  },
  {
   "cell_type": "code",
   "execution_count": 12,
   "metadata": {},
   "outputs": [
    {
     "name": "stdout",
     "output_type": "stream",
     "text": [
      "\n",
      "Array C: [1 2 3]\n",
      "Array D: [4 5 6]\n",
      "Resultado del Producto Escalar: 32\n"
     ]
    }
   ],
   "source": [
    "# Crear dos arrays\n",
    "c = np.array([1, 2, 3])\n",
    "d = np.array([4, 5, 6])\n",
    "\n",
    "# Operación vectorizada: producto escalar\n",
    "producto_escalar = np.dot(c, d)\n",
    "\n",
    "# Mostrar los resultados\n",
    "print(\"\\nArray C:\", c)\n",
    "print(\"Array D:\", d)\n",
    "print(\"Resultado del Producto Escalar:\", producto_escalar)"
   ]
  },
  {
   "cell_type": "markdown",
   "metadata": {},
   "source": [
    "**3. Funciones Matemáticas:**"
   ]
  },
  {
   "cell_type": "code",
   "execution_count": 13,
   "metadata": {},
   "outputs": [
    {
     "data": {
      "image/png": "[encoded data removed]",
      "text/plain": [
       "<Figure size 640x480 with 1 Axes>"
      ]
     },
     "metadata": {},
     "output_type": "display_data"
    }
   ],
   "source": [
    "import numpy as np\n",
    "import matplotlib.pyplot as plt\n",
    "\n",
    "# Crear un array\n",
    "x = np.linspace(0, 2 * np.pi, 100)\n",
    "\n",
    "# Operación vectorizada: calcular el seno\n",
    "y = np.sin(x)\n",
    "\n",
    "# Personalización de la gráfica\n",
    "plt.plot(x, y, label='sin(x)', color='blue', linestyle='-', linewidth=2, marker='o', markersize=6, markerfacecolor='red')\n",
    "\n",
    "# Agregar una línea horizontal en y=0\n",
    "plt.axhline(0, color='black',linewidth=0.5)\n",
    "\n",
    "# Agregar una leyenda\n",
    "plt.legend()\n",
    "\n",
    "# Títulos y etiquetas de los ejes\n",
    "plt.title(\"Gráfica Personalizada de la Función Seno\", fontsize=16)\n",
    "plt.xlabel(\"x\", fontsize=12)\n",
    "plt.ylabel(\"sin(x)\", fontsize=12)\n",
    "\n",
    "# Añadir cuadrícula\n",
    "plt.grid(True, linestyle='--', alpha=0.7)\n",
    "\n",
    "# Mostrar la gráfica\n",
    "plt.show()"
   ]
  },
  {
   "cell_type": "markdown",
   "metadata": {},
   "source": [
    "**Beneficios de las Operaciones Vectorizadas:**\n",
    "\n",
    "1. **Claridad del Código:**\n",
    "   - Las operaciones vectorizadas permiten expresar operaciones de manera más concisa y legible.\n",
    "\n",
    "2. **Eficiencia:**\n",
    "   - NumPy implementa operaciones vectorizadas en código C o Fortran subyacente, lo que mejora significativamente la velocidad de ejecución.\n",
    "\n",
    "3. **Compatibilidad con Broadcasting:**\n",
    "   - NumPy utiliza el broadcasting para extender automáticamente las dimensiones de los arrays, facilitando operaciones entre arrays de diferentes formas.\n",
    "\n",
    "4. **Menos Necesidad de Bucles:**\n",
    "   - Reducción de la necesidad de bucles explícitos, lo que simplifica el código y mejora la eficiencia.\n",
    "\n",
    "Las operaciones vectorizadas son esenciales para el cómputo numérico eficiente y son una de las razones por las que NumPy es ampliamente utilizado en el ámbito de la ciencia de datos y la computación científica en Python."
   ]
  },
  {
   "cell_type": "markdown",
   "metadata": {},
   "source": [
    "### **Merging y concatenación de datos**"
   ]
  },
  {
   "cell_type": "markdown",
   "metadata": {},
   "source": [
    "La concatenación y el merging son operaciones fundamentales en el manejo de datos, especialmente cuando trabajas con conjuntos de datos distribuidos o necesitas combinar información de diferentes fuentes. Vamos a explorar ambos conceptos con ejemplos detallados y gráficos.\n",
    "\n",
    "**Concatenación de Datos:**\n",
    "\n",
    "La concatenación se refiere a la operación de unir dos o más conjuntos de datos a lo largo de un eje.\n",
    "\n",
    "**Ejemplo de Concatenación Vertical:**"
   ]
  },
  {
   "cell_type": "code",
   "execution_count": 14,
   "metadata": {},
   "outputs": [
    {
     "name": "stdout",
     "output_type": "stream",
     "text": [
      "DataFrame 1:\n",
      "    A   B\n",
      "0  A0  B0\n",
      "1  A1  B1\n",
      "2  A2  B2\n",
      "\n",
      "DataFrame 2:\n",
      "    A   B\n",
      "3  A3  B3\n",
      "4  A4  B4\n",
      "5  A5  B5\n",
      "\n",
      "Resultado de la Concatenación Vertical:\n",
      "    A   B\n",
      "0  A0  B0\n",
      "1  A1  B1\n",
      "2  A2  B2\n",
      "3  A3  B3\n",
      "4  A4  B4\n",
      "5  A5  B5\n"
     ]
    }
   ],
   "source": [
    "import pandas as pd\n",
    "\n",
    "# Crear dos DataFrames\n",
    "df1 = pd.DataFrame({'A': ['A0', 'A1', 'A2'],\n",
    "                    'B': ['B0', 'B1', 'B2']},\n",
    "                   index=[0, 1, 2])\n",
    "\n",
    "df2 = pd.DataFrame({'A': ['A3', 'A4', 'A5'],\n",
    "                    'B': ['B3', 'B4', 'B5']},\n",
    "                   index=[3, 4, 5])\n",
    "\n",
    "# Concatenar verticalmente (por filas)\n",
    "df_concat_vertical = pd.concat([df1, df2])\n",
    "\n",
    "print(\"DataFrame 1:\")\n",
    "print(df1)\n",
    "\n",
    "print(\"\\nDataFrame 2:\")\n",
    "print(df2)\n",
    "\n",
    "print(\"\\nResultado de la Concatenación Vertical:\")\n",
    "print(df_concat_vertical)"
   ]
  },
  {
   "cell_type": "markdown",
   "metadata": {},
   "source": [
    "**Ejemplo de Concatenación Horizontal:**"
   ]
  },
  {
   "cell_type": "code",
   "execution_count": 15,
   "metadata": {},
   "outputs": [
    {
     "name": "stdout",
     "output_type": "stream",
     "text": [
      "DataFrame 3:\n",
      "    C   D\n",
      "0  C0  D0\n",
      "1  C1  D1\n",
      "2  C2  D2\n",
      "\n",
      "DataFrame 4:\n",
      "    C   D\n",
      "3  C3  D3\n",
      "4  C4  D4\n",
      "5  C5  D5\n",
      "\n",
      "Resultado de la Concatenación Horizontal:\n",
      "    A   B   C   D\n",
      "0  A0  B0  C0  D0\n",
      "1  A1  B1  C1  D1\n",
      "2  A2  B2  C2  D2\n"
     ]
    }
   ],
   "source": [
    "# Crear dos DataFrames\n",
    "df3 = pd.DataFrame({'C': ['C0', 'C1', 'C2'],\n",
    "                    'D': ['D0', 'D1', 'D2']},\n",
    "                   index=[0, 1, 2])\n",
    "\n",
    "df4 = pd.DataFrame({'C': ['C3', 'C4', 'C5'],\n",
    "                    'D': ['D3', 'D4', 'D5']},\n",
    "                   index=[3, 4, 5])\n",
    "\n",
    "# Concatenar horizontalmente (por columnas)\n",
    "df_concat_horizontal = pd.concat([df1, df3], axis=1)\n",
    "\n",
    "print(\"DataFrame 3:\")\n",
    "print(df3)\n",
    "\n",
    "print(\"\\nDataFrame 4:\")\n",
    "print(df4)\n",
    "\n",
    "print(\"\\nResultado de la Concatenación Horizontal:\")\n",
    "print(df_concat_horizontal)"
   ]
  },
  {
   "cell_type": "markdown",
   "metadata": {},
   "source": [
    "**Merging de Datos:**\n",
    "\n",
    "El merging implica combinar conjuntos de datos basándose en claves o columnas comunes.\n",
    "\n",
    "**Ejemplo de Merging:**"
   ]
  },
  {
   "cell_type": "code",
   "execution_count": 16,
   "metadata": {},
   "outputs": [
    {
     "name": "stdout",
     "output_type": "stream",
     "text": [
      "DataFrame Izquierdo:\n",
      "  key value_left\n",
      "0  K0         L0\n",
      "1  K1         L1\n",
      "2  K2         L2\n",
      "\n",
      "DataFrame Derecho:\n",
      "  key value_right\n",
      "0  K1          R1\n",
      "1  K2          R2\n",
      "2  K3          R3\n",
      "\n",
      "Resultado del Merging:\n",
      "  key value_left value_right\n",
      "0  K1         L1          R1\n",
      "1  K2         L2          R2\n"
     ]
    }
   ],
   "source": [
    "# Crear dos DataFrames con claves\n",
    "df_left = pd.DataFrame({'key': ['K0', 'K1', 'K2'],\n",
    "                        'value_left': ['L0', 'L1', 'L2']})\n",
    "\n",
    "df_right = pd.DataFrame({'key': ['K1', 'K2', 'K3'],\n",
    "                         'value_right': ['R1', 'R2', 'R3']})\n",
    "\n",
    "# Realizar un merging basado en la columna 'key'\n",
    "df_merged = pd.merge(df_left, df_right, on='key', how='inner')\n",
    "\n",
    "print(\"DataFrame Izquierdo:\")\n",
    "print(df_left)\n",
    "\n",
    "print(\"\\nDataFrame Derecho:\")\n",
    "print(df_right)\n",
    "\n",
    "print(\"\\nResultado del Merging:\")\n",
    "print(df_merged)"
   ]
  },
  {
   "cell_type": "markdown",
   "metadata": {},
   "source": [
    "| **Inicio** | **atrás 1** | **Siguiente 3** |\n",
    "|----------- |-------------- |---------------|\n",
    "| [🏠](../README.md) | [⏪](./1_Introduccion_a_la_Ciencia_de_Datos.ipynb)| [⏩](./3_Analisis_Estadistico.ipynb)|"
   ]
  }
 ],
 "metadata": {
  "kernelspec": {
   "display_name": "base",
   "language": "python",
   "name": "python3"
  },
  "language_info": {
   "codemirror_mode": {
    "name": "ipython",
    "version": 3
   },
   "file_extension": ".py",
   "mimetype": "text/x-python",
   "name": "python",
   "nbconvert_exporter": "python",
   "pygments_lexer": "ipython3",
   "version": "3.9.12"
  }
 },
 "nbformat": 4,
 "nbformat_minor": 2
}
