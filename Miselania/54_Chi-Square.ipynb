{
 "cells": [
  {
   "cell_type": "markdown",
   "metadata": {},
   "source": [
    "| **Inicio** | **atrás 53** | **Siguiente 55** |\n",
    "|----------- |-------------- |---------------|\n",
    "| [🏠](../README.md) | [⏪](./53_ANOVA.ipynb)| [⏩](./55_Univariate_and_Bivariate.ipynb)|"
   ]
  },
  {
   "cell_type": "markdown",
   "metadata": {},
   "source": [
    "# **54. Chi-Square**"
   ]
  },
  {
   "cell_type": "markdown",
   "metadata": {},
   "source": [
    "**Prueba de Chi-Cuadrado: Explicación Detallada**\n",
    "\n",
    "**Chi-Cuadrado:**\n",
    "\n",
    "La prueba de Chi-Cuadrado es una prueba estadística utilizada para determinar si existe una asociación significativa entre dos variables categóricas. Es útil para evaluar si la distribución observada de frecuencias difiere de la distribución esperada bajo la hipótesis nula de independencia.\n",
    "\n",
    "**Terminología:**\n",
    "\n",
    "- **Tabla de Contingencia:** Una tabla que muestra la distribución conjunta de dos variables categóricas. Contiene recuentos o frecuencias observadas en cada combinación de categorías.\n",
    "\n",
    "- **Hipótesis Nula (H0):** La hipótesis que asume independencia entre las dos variables categóricas. No hay asociación significativa.\n",
    "\n",
    "- **Hipótesis Alternativa (H1):** La hipótesis que indica que hay una asociación significativa entre las dos variables categóricas.\n",
    "\n",
    "- **Estadística de Chi-Cuadrado $(\\chi^2)$:** Una medida de cuánto difieren las frecuencias observadas de las esperadas. Se calcula sumando los cuadrados de las diferencias entre las frecuencias observadas y esperadas, ponderadas por las frecuencias esperadas.\n",
    "\n",
    "**Fórmula Matemática para la Estadística de Chi-Cuadrado:**\n",
    "\n",
    "$\\chi^2 = \\sum \\frac{(O_i - E_i)^2}{E_i}$\n",
    "\n",
    "Donde:\n",
    "\n",
    "- $( O_i )$ es la frecuencia observada en la categoría $( i )$.\n",
    "- $( E_i )$ es la frecuencia esperada en la categoría $( i )$.\n",
    "\n",
    "**Ejemplo con Gráfico en Python:**"
   ]
  },
  {
   "cell_type": "code",
   "execution_count": 1,
   "metadata": {},
   "outputs": [
    {
     "data": {
      "image/png": "[encoded data removed]",
      "text/plain": [
       "<Figure size 640x480 with 1 Axes>"
      ]
     },
     "metadata": {},
     "output_type": "display_data"
    },
    {
     "name": "stdout",
     "output_type": "stream",
     "text": [
      "Estadística de Chi-Cuadrado: 6.95\n",
      "Valor p: 0.0084\n",
      "Hay evidencia significativa para rechazar la hipótesis nula.\n"
     ]
    }
   ],
   "source": [
    "import numpy as np\n",
    "import matplotlib.pyplot as plt\n",
    "from scipy.stats import chi2_contingency\n",
    "\n",
    "# Crear una tabla de contingencia de dos variables categóricas\n",
    "observed_data = np.array([[30, 10], [20, 25]])\n",
    "\n",
    "# Realizar la prueba de Chi-Cuadrado\n",
    "chi2_stat, p_value, dof, expected = chi2_contingency(observed_data)\n",
    "\n",
    "# Visualizar la tabla de contingencia\n",
    "plt.table(cellText=observed_data, cellLoc='center', loc='center')\n",
    "plt.axis('off')\n",
    "plt.title('Tabla de Contingencia')\n",
    "\n",
    "plt.show()\n",
    "\n",
    "# Imprimir resultados de Chi-Cuadrado\n",
    "print(f'Estadística de Chi-Cuadrado: {chi2_stat:.2f}')\n",
    "print(f'Valor p: {p_value:.4f}')\n",
    "\n",
    "# Interpretación\n",
    "alpha = 0.05\n",
    "if p_value < alpha:\n",
    "    print('Hay evidencia significativa para rechazar la hipótesis nula.')\n",
    "else:\n",
    "    print('No hay evidencia significativa para rechazar la hipótesis nula.')"
   ]
  },
  {
   "cell_type": "markdown",
   "metadata": {},
   "source": [
    "En este ejemplo:\n",
    "- Creamos una tabla de contingencia con frecuencias observadas.\n",
    "- Realizamos la prueba de Chi-Cuadrado y evaluamos la estadística de Chi-Cuadrado y el valor p.\n",
    "- Visualizamos la tabla de contingencia para observar las frecuencias observadas en cada categoría.\n",
    "- Interpretamos los resultados y determinamos si hay una asociación significativa entre las dos variables categóricas."
   ]
  },
  {
   "cell_type": "markdown",
   "metadata": {},
   "source": [
    "| **Inicio** | **atrás 53** | **Siguiente 55** |\n",
    "|----------- |-------------- |---------------|\n",
    "| [🏠](../README.md) | [⏪](./53_ANOVA.ipynb)| [⏩](./55_Univariate_and_Bivariate.ipynb)|"
   ]
  }
 ],
 "metadata": {
  "kernelspec": {
   "display_name": "base",
   "language": "python",
   "name": "python3"
  },
  "language_info": {
   "codemirror_mode": {
    "name": "ipython",
    "version": 3
   },
   "file_extension": ".py",
   "mimetype": "text/x-python",
   "name": "python",
   "nbconvert_exporter": "python",
   "pygments_lexer": "ipython3",
   "version": "3.9.12"
  }
 },
 "nbformat": 4,
 "nbformat_minor": 2
}
