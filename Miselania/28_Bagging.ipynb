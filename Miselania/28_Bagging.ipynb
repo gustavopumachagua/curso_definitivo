{
 "cells": [
  {
   "cell_type": "markdown",
   "metadata": {},
   "source": [
    "| **Inicio** | **atrás 27** | **Siguiente 29** |\n",
    "|----------- |-------------- |---------------|\n",
    "| [🏠](../README.md) | [⏪](./27_Uniform_Distribution.ipynb)| [⏩](./29_%20Root_Mean_Square_Error.ipynb)|"
   ]
  },
  {
   "cell_type": "markdown",
   "metadata": {},
   "source": [
    "# **28. Bagging**"
   ]
  },
  {
   "cell_type": "markdown",
   "metadata": {},
   "source": [
    "Bagging es una técnica de ensemble que combina múltiples modelos para mejorar la estabilidad y la precisión del modelo final. Funciona entrenando varios modelos en conjuntos de datos de entrenamiento creados mediante bootstrap (muestreo con reemplazo), y luego agregando las predicciones de cada modelo para tomar una decisión final.\n",
    "\n",
    "**Terminología:**\n",
    "\n",
    "1. **Bootstrap:** Es una técnica de muestreo con reemplazo. Se crea un conjunto de datos bootstrap al seleccionar muestras del conjunto de datos de entrenamiento original de manera aleatoria y con reemplazo.\n",
    "\n",
    "2. **Ensemble:** Es la combinación de varios modelos para formar un modelo más robusto y preciso.\n",
    "\n",
    "**Algoritmo Bagging:**\n",
    "\n",
    "1. **Entrenamiento:**\n",
    "   - Selecciona aleatoriamente $(K)$ conjuntos de datos bootstrap del conjunto de entrenamiento original.\n",
    "   - Entrena un modelo en cada conjunto de datos bootstrap.\n",
    "\n",
    "2. **Predicción:**\n",
    "   - Realiza predicciones con cada modelo.\n",
    "   - Agrega las predicciones utilizando una estrategia de promedio o votación.\n",
    "\n",
    "**Ventajas del Bagging:**\n",
    "\n",
    "- **Reducción de la Varianza:** Al entrenar modelos en conjuntos de datos diferentes, el bagging ayuda a reducir la variabilidad y el sobreajuste.\n",
    "\n",
    "- **Mayor Estabilidad:** La combinación de múltiples modelos hace que el modelo final sea más estable y generalizable.\n",
    "\n",
    "**Fórmula Matemática:**\n",
    "\n",
    "Supongamos que tenemos $(K)$ modelos base $(h_1, h_2, ..., h_K)$ y queremos predecir un nuevo ejemplo $(x)$. La predicción del ensemble mediante bagging se realiza mediante:\n",
    "\n",
    "$\\text{Predicción Final}(x) = \\frac{1}{K} \\sum_{i=1}^{K} h_i(x)$\n",
    "\n",
    "donde $h_i(x)$ es la predicción del modelo base $(i)$ para el ejemplo $(x)$.\n",
    "\n",
    "**Ejemplo con Gráfico en Python:**"
   ]
  },
  {
   "cell_type": "code",
   "execution_count": 1,
   "metadata": {},
   "outputs": [
    {
     "name": "stdout",
     "output_type": "stream",
     "text": [
      "Precisión del modelo: 0.89\n"
     ]
    }
   ],
   "source": [
    "from sklearn.ensemble import BaggingClassifier\n",
    "from sklearn.tree import DecisionTreeClassifier\n",
    "from sklearn.datasets import make_classification\n",
    "from sklearn.model_selection import train_test_split\n",
    "from sklearn.metrics import accuracy_score\n",
    "\n",
    "# Generar datos de ejemplo\n",
    "X, y = make_classification(n_samples=1000, n_features=20, random_state=42)\n",
    "\n",
    "# Dividir datos en entrenamiento y prueba\n",
    "X_train, X_test, y_train, y_test = train_test_split(X, y, test_size=0.2, random_state=42)\n",
    "\n",
    "# Crear un clasificador de árbol de decisión\n",
    "base_classifier = DecisionTreeClassifier(random_state=42)\n",
    "\n",
    "# Crear el clasificador Bagging\n",
    "bagging_classifier = BaggingClassifier(base_classifier, n_estimators=50, random_state=42)\n",
    "\n",
    "# Entrenar el modelo Bagging\n",
    "bagging_classifier.fit(X_train, y_train)\n",
    "\n",
    "# Realizar predicciones\n",
    "y_pred = bagging_classifier.predict(X_test)\n",
    "\n",
    "# Calcular precisión\n",
    "accuracy = accuracy_score(y_test, y_pred)\n",
    "print(f'Precisión del modelo: {accuracy:.2f}')"
   ]
  },
  {
   "cell_type": "markdown",
   "metadata": {},
   "source": [
    "Este ejemplo utiliza bagging con un clasificador de árbol de decisión base. Puedes experimentar con diferentes parámetros, como el número de estimadores, para ver cómo afectan a la precisión del modelo."
   ]
  },
  {
   "cell_type": "markdown",
   "metadata": {},
   "source": [
    "| **Inicio** | **atrás 27** | **Siguiente 29** |\n",
    "|----------- |-------------- |---------------|\n",
    "| [🏠](../README.md) | [⏪](./27_Uniform_Distribution.ipynb)| [⏩](./29_%20Root_Mean_Square_Error.ipynb)|"
   ]
  }
 ],
 "metadata": {
  "kernelspec": {
   "display_name": "base",
   "language": "python",
   "name": "python3"
  },
  "language_info": {
   "codemirror_mode": {
    "name": "ipython",
    "version": 3
   },
   "file_extension": ".py",
   "mimetype": "text/x-python",
   "name": "python",
   "nbconvert_exporter": "python",
   "pygments_lexer": "ipython3",
   "version": "3.9.12"
  }
 },
 "nbformat": 4,
 "nbformat_minor": 2
}
