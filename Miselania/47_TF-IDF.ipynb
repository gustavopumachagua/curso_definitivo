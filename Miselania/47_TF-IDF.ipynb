{
 "cells": [
  {
   "cell_type": "markdown",
   "metadata": {},
   "source": [
    "| **Inicio** | **atrás 46** | **Siguiente 48** |\n",
    "|----------- |-------------- |---------------|\n",
    "| [🏠](../README.md) | [⏪](./46_Binomial_Distribution.ipynb)| [⏩](./48_Word2Vec.ipynb)|"
   ]
  },
  {
   "cell_type": "markdown",
   "metadata": {},
   "source": [
    "# **47. TF-IDF**"
   ]
  },
  {
   "cell_type": "markdown",
   "metadata": {},
   "source": [
    "**TF-IDF (Term Frequency-Inverse Document Frequency): Explicación Detallada**\n",
    "\n",
    "**Terminología:**\n",
    "\n",
    "- **TF (Term Frequency):** Mide la frecuencia de un término en un documento específico. Se calcula como el número de veces que un término aparece en un documento dividido por el número total de términos en ese documento.\n",
    "\n",
    "$\\text{TF}(t, d) = \\frac{\\text{Número de veces que el término } t \\text{ aparece en el documento } d}{\\text{Número total de términos en el documento } d}$\n",
    "\n",
    "- **IDF (Inverse Document Frequency):** Mide la importancia de un término en un conjunto de documentos. Se calcula como el logaritmo del cociente entre el número total de documentos en el conjunto y el número de documentos que contienen el término.\n",
    "\n",
    "$\\text{IDF}(t, D) = \\log\\left(\\frac{\\text{Número total de documentos en el conjunto } D}{\\text{Número de documentos que contienen el término } t + 1}\\right) + 1$\n",
    "\n",
    "- **TF-IDF (Term Frequency-Inverse Document Frequency):** Es el producto de TF e IDF. Da más peso a los términos que son frecuentes en un documento específico pero raros en el conjunto de documentos.\n",
    "\n",
    "$\\text{TF-IDF}(t, d, D) = \\text{TF}(t, d) \\times \\text{IDF}(t, D)$\n",
    "\n",
    "**Fórmula Matemática:**\n",
    "\n",
    "$\\text{TF-IDF}(t, d, D) = \\frac{\\text{Número de veces que el término } t \\text{ aparece en el documento } d}{\\text{Número total de términos en el documento } d} \\times \\left(\\log\\left(\\frac{\\text{Número total de documentos en el conjunto } D}{\\text{Número de documentos que contienen el término } t + 1}\\right) + 1\\right)$\n",
    "\n",
    "**Ejemplo con Código Python:**"
   ]
  },
  {
   "cell_type": "code",
   "execution_count": 1,
   "metadata": {},
   "outputs": [
    {
     "name": "stdout",
     "output_type": "stream",
     "text": [
      "            ai      data       for       fun        is  language  learning  \\\n",
      "Doc1  0.000000  0.000000  0.000000  0.546454  0.322745  0.000000  0.546454   \n",
      "Doc2  0.410747  0.000000  0.000000  0.000000  0.242594  0.312384  0.000000   \n",
      "Doc3  0.000000  0.379945  0.379945  0.000000  0.224401  0.288958  0.000000   \n",
      "\n",
      "       machine   natural        of   popular  processing  programming  \\\n",
      "Doc1  0.546454  0.000000  0.000000  0.000000    0.000000     0.000000   \n",
      "Doc2  0.000000  0.410747  0.410747  0.000000    0.410747     0.000000   \n",
      "Doc3  0.000000  0.000000  0.000000  0.379945    0.000000     0.379945   \n",
      "\n",
      "        python   science    subset  \n",
      "Doc1  0.000000  0.000000  0.000000  \n",
      "Doc2  0.000000  0.000000  0.410747  \n",
      "Doc3  0.379945  0.379945  0.000000  \n"
     ]
    }
   ],
   "source": [
    "from sklearn.feature_extraction.text import TfidfVectorizer\n",
    "import pandas as pd\n",
    "\n",
    "# Ejemplo de documentos\n",
    "documents = [\n",
    "    \"Machine learning is fun\",\n",
    "    \"Natural language processing is a subset of AI\",\n",
    "    \"Python is a popular programming language for data science\",\n",
    "]\n",
    "\n",
    "# Crear un objeto TF-IDF Vectorizer\n",
    "tfidf_vectorizer = TfidfVectorizer()\n",
    "\n",
    "# Aplicar TF-IDF al conjunto de documentos\n",
    "tfidf_matrix = tfidf_vectorizer.fit_transform(documents)\n",
    "\n",
    "# Obtener los términos (features) y los valores TF-IDF en un DataFrame\n",
    "feature_names = tfidf_vectorizer.get_feature_names_out()\n",
    "tfidf_df = pd.DataFrame(data=tfidf_matrix.toarray(), columns=feature_names, index=['Doc1', 'Doc2', 'Doc3'])\n",
    "\n",
    "# Visualizar la matriz TF-IDF\n",
    "print(tfidf_df)"
   ]
  },
  {
   "cell_type": "markdown",
   "metadata": {},
   "source": [
    "Este código utiliza la biblioteca scikit-learn para calcular la matriz TF-IDF a partir de un conjunto de documentos. La matriz resultante muestra los valores TF-IDF para cada término en cada documento."
   ]
  },
  {
   "cell_type": "markdown",
   "metadata": {},
   "source": [
    "| **Inicio** | **atrás 46** | **Siguiente 48** |\n",
    "|----------- |-------------- |---------------|\n",
    "| [🏠](../README.md) | [⏪](./46_Binomial_Distribution.ipynb)| [⏩](./48_Word2Vec.ipynb)|"
   ]
  }
 ],
 "metadata": {
  "kernelspec": {
   "display_name": "base",
   "language": "python",
   "name": "python3"
  },
  "language_info": {
   "codemirror_mode": {
    "name": "ipython",
    "version": 3
   },
   "file_extension": ".py",
   "mimetype": "text/x-python",
   "name": "python",
   "nbconvert_exporter": "python",
   "pygments_lexer": "ipython3",
   "version": "3.9.12"
  }
 },
 "nbformat": 4,
 "nbformat_minor": 2
}
