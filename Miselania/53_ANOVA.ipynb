{
 "cells": [
  {
   "cell_type": "markdown",
   "metadata": {},
   "source": [
    "| **Inicio** | **atrás 52** | **Siguiente 54** |\n",
    "|----------- |-------------- |---------------|\n",
    "| [🏠](../README.md) | [⏪](./52_Central_Limit_Theorem.ipynb)| [⏩](./54_Chi-Square.ipynb)|"
   ]
  },
  {
   "cell_type": "markdown",
   "metadata": {},
   "source": [
    "# **53. ANOVA**"
   ]
  },
  {
   "cell_type": "markdown",
   "metadata": {},
   "source": [
    "**Análisis de Varianza (ANOVA): Explicación Detallada**\n",
    "\n",
    "**ANOVA (Análisis de Varianza):**\n",
    "\n",
    "ANOVA es una técnica estadística utilizada para analizar las diferencias entre las medias de tres o más grupos. A diferencia de la prueba t, que compara las medias de dos grupos, ANOVA permite comparar varias medias simultáneamente. ANOVA examina si hay diferencias estadísticamente significativas entre los grupos en términos de sus medias, utilizando la variabilidad dentro y entre los grupos.\n",
    "\n",
    "**Terminología:**\n",
    "\n",
    "- **Suma de Cuadrados Total (SCT):** La variabilidad total en los datos.\n",
    "\n",
    "- **Suma de Cuadrados Entre Grupos (SCB):** La variabilidad atribuible a las diferencias entre los grupos.\n",
    "\n",
    "- **Suma de Cuadrados Dentro de Grupos (SCD):** La variabilidad atribuible a las diferencias dentro de cada grupo.\n",
    "\n",
    "- **Grados de Libertad (df):** Grados de libertad asociados con las sumas de cuadrados. \n",
    "\n",
    "$df_{\\text{Total}} = N - 1$, $df_{\\text{Entre Grupos}} = k - 1$, $df_{\\text{Dentro de Grupos}} = N - k$\n",
    "\n",
    " donde:\n",
    " \n",
    "  $( N )$ es el número total de observaciones y $( k )$ es el número de grupos.\n",
    "\n",
    "- **Media Cuadrática Entre Grupos (MCB):** Cociente entre SCB y sus grados de libertad.\n",
    "\n",
    "- **Media Cuadrática Dentro de Grupos (MCD):** Cociente entre SCD y sus grados de libertad.\n",
    "\n",
    "- **Estadística F:** Cociente entre MCB y MCD.\n",
    "\n",
    "**Fórmula Matemática para la Estadística F:**\n",
    "\n",
    "$F = \\frac{MCB}{MCD}$\n",
    "\n",
    "**Ejemplo con Gráfico en Python:**"
   ]
  },
  {
   "cell_type": "code",
   "execution_count": 1,
   "metadata": {},
   "outputs": [
    {
     "data": {
      "image/png": "[encoded data removed]",
      "text/plain": [
       "<Figure size 640x480 with 1 Axes>"
      ]
     },
     "metadata": {},
     "output_type": "display_data"
    },
    {
     "name": "stdout",
     "output_type": "stream",
     "text": [
      "Estadística F: 40.98\n",
      "Valor p: 0.0000\n",
      "Hay evidencia significativa para rechazar la hipótesis nula.\n"
     ]
    }
   ],
   "source": [
    "import numpy as np\n",
    "import matplotlib.pyplot as plt\n",
    "from scipy.stats import f_oneway\n",
    "\n",
    "# Generar datos de tres grupos diferentes\n",
    "np.random.seed(42)\n",
    "\n",
    "group1 = np.random.normal(loc=20, scale=5, size=30)\n",
    "group2 = np.random.normal(loc=25, scale=5, size=30)\n",
    "group3 = np.random.normal(loc=30, scale=5, size=30)\n",
    "\n",
    "# Realizar la prueba de ANOVA\n",
    "f_statistic, p_value = f_oneway(group1, group2, group3)\n",
    "\n",
    "# Visualizar los datos\n",
    "plt.boxplot([group1, group2, group3], labels=['Grupo 1', 'Grupo 2', 'Grupo 3'])\n",
    "plt.title('Boxplot de Tres Grupos')\n",
    "plt.xlabel('Grupos')\n",
    "plt.ylabel('Valores')\n",
    "\n",
    "plt.show()\n",
    "\n",
    "# Imprimir resultados de ANOVA\n",
    "print(f'Estadística F: {f_statistic:.2f}')\n",
    "print(f'Valor p: {p_value:.4f}')\n",
    "\n",
    "# Interpretación\n",
    "alpha = 0.05\n",
    "if p_value < alpha:\n",
    "    print('Hay evidencia significativa para rechazar la hipótesis nula.')\n",
    "else:\n",
    "    print('No hay evidencia significativa para rechazar la hipótesis nula.')"
   ]
  },
  {
   "cell_type": "markdown",
   "metadata": {},
   "source": [
    "En este ejemplo:\n",
    "- Generamos datos de tres grupos con distribuciones normales diferentes.\n",
    "- Utilizamos un boxplot para visualizar las distribuciones de los grupos.\n",
    "- Realizamos la prueba de ANOVA y evaluamos la estadística F y el valor p.\n",
    "- Interpretamos los resultados y determinamos si hay diferencias significativas entre las medias de los grupos."
   ]
  },
  {
   "cell_type": "markdown",
   "metadata": {},
   "source": [
    "| **Inicio** | **atrás 52** | **Siguiente 54** |\n",
    "|----------- |-------------- |---------------|\n",
    "| [🏠](../README.md) | [⏪](./52_Central_Limit_Theorem.ipynb)| [⏩](./54_Chi-Square.ipynb)|"
   ]
  }
 ],
 "metadata": {
  "kernelspec": {
   "display_name": "base",
   "language": "python",
   "name": "python3"
  },
  "language_info": {
   "codemirror_mode": {
    "name": "ipython",
    "version": 3
   },
   "file_extension": ".py",
   "mimetype": "text/x-python",
   "name": "python",
   "nbconvert_exporter": "python",
   "pygments_lexer": "ipython3",
   "version": "3.9.12"
  }
 },
 "nbformat": 4,
 "nbformat_minor": 2
}
