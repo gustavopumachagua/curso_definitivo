{
 "cells": [
  {
   "cell_type": "markdown",
   "metadata": {},
   "source": [
    "| **Inicio** | **atrás 21** | **Siguiente 23** |\n",
    "|----------- |-------------- |---------------|\n",
    "| [🏠](../README.md) | [⏪](./21_Uniform_Distribution.ipynb)| [⏩](./23_Log_Loss.ipynb)|"
   ]
  },
  {
   "cell_type": "markdown",
   "metadata": {},
   "source": [
    "# **22. F1 Score**"
   ]
  },
  {
   "cell_type": "markdown",
   "metadata": {},
   "source": [
    "El F1 Score es una métrica de evaluación de modelos que combina la precisión (precision) y el recall (sensibilidad) en un solo valor. Es especialmente útil cuando hay un desequilibrio en las clases del conjunto de datos. El F1 Score es la media armónica de la precisión y el recall, y proporciona una medida equilibrada entre ambos.\n",
    "\n",
    "**Terminología:**\n",
    "\n",
    "- **Precision (Precisión):** La proporción de instancias positivas identificadas correctamente entre todas las instancias identificadas como positivas.\n",
    "- **Recall (Sensibilidad o Tasa de Verdaderos Positivos):** La proporción de instancias positivas identificadas correctamente entre todas las instancias que son realmente positivas.\n",
    "- **F1 Score:** La media armónica de la precisión y el recall.\n",
    "\n",
    "**Fórmula Matemática:**\n",
    "\n",
    "La fórmula para el F1 Score es la siguiente:\n",
    "\n",
    "$F1 = 2 \\times \\frac{\\text{Precision} \\times \\text{Recall}}{\\text{Precision} + \\text{Recall}}$\n",
    "\n",
    "**Ejemplo con Gráfico en Python:**\n",
    "\n",
    "Vamos a calcular y visualizar el F1 Score usando Python:"
   ]
  },
  {
   "cell_type": "code",
   "execution_count": 1,
   "metadata": {},
   "outputs": [
    {
     "data": {
      "image/png": "[encoded data removed]",
      "text/plain": [
       "<Figure size 640x480 with 1 Axes>"
      ]
     },
     "metadata": {},
     "output_type": "display_data"
    },
    {
     "name": "stdout",
     "output_type": "stream",
     "text": [
      "Precision: 0.83\n",
      "Recall: 0.83\n",
      "F1 Score: 0.83\n"
     ]
    }
   ],
   "source": [
    "from sklearn.metrics import precision_score, recall_score, f1_score, confusion_matrix\n",
    "import seaborn as sns\n",
    "import matplotlib.pyplot as plt\n",
    "\n",
    "# Ejemplo de predicciones y etiquetas reales\n",
    "y_true = [1, 0, 1, 1, 0, 1, 0, 0, 1, 1]\n",
    "y_pred = [1, 0, 1, 1, 0, 0, 1, 0, 1, 1]\n",
    "\n",
    "# Calcular precision, recall y F1 Score\n",
    "precision = precision_score(y_true, y_pred)\n",
    "recall = recall_score(y_true, y_pred)\n",
    "f1 = f1_score(y_true, y_pred)\n",
    "\n",
    "# Crear una matriz de confusión\n",
    "cm = confusion_matrix(y_true, y_pred)\n",
    "\n",
    "# Visualizar la matriz de confusión\n",
    "sns.heatmap(cm, annot=True, fmt=\"d\", cmap=\"Blues\", cbar=False, xticklabels=['Negativo', 'Positivo'], yticklabels=['Negativo', 'Positivo'])\n",
    "plt.xlabel('Predicción')\n",
    "plt.ylabel('Realidad')\n",
    "plt.title('Matriz de Confusión')\n",
    "plt.show()\n",
    "\n",
    "# Mostrar resultados\n",
    "print(f'Precision: {precision:.2f}')\n",
    "print(f'Recall: {recall:.2f}')\n",
    "print(f'F1 Score: {f1:.2f}')"
   ]
  },
  {
   "cell_type": "markdown",
   "metadata": {},
   "source": [
    "Este código utiliza la biblioteca scikit-learn para calcular precision, recall y F1 Score, y seaborn y matplotlib para visualizar la matriz de confusión. Puedes ajustar `y_true` y `y_pred` con tus propios valores para experimentar con la métrica."
   ]
  },
  {
   "cell_type": "markdown",
   "metadata": {},
   "source": [
    "| **Inicio** | **atrás 21** | **Siguiente 23** |\n",
    "|----------- |-------------- |---------------|\n",
    "| [🏠](../README.md) | [⏪](./21_Uniform_Distribution.ipynb)| [⏩](./23_Log_Loss.ipynb)|"
   ]
  }
 ],
 "metadata": {
  "kernelspec": {
   "display_name": "base",
   "language": "python",
   "name": "python3"
  },
  "language_info": {
   "codemirror_mode": {
    "name": "ipython",
    "version": 3
   },
   "file_extension": ".py",
   "mimetype": "text/x-python",
   "name": "python",
   "nbconvert_exporter": "python",
   "pygments_lexer": "ipython3",
   "version": "3.9.12"
  }
 },
 "nbformat": 4,
 "nbformat_minor": 2
}
