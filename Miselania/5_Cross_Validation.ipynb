{
 "cells": [
  {
   "cell_type": "markdown",
   "metadata": {},
   "source": [
    "| **Inicio** | **atrás 4** | **Siguiente 6** |\n",
    "|----------- |-------------- |---------------|\n",
    "| [🏠](../README.md) | [⏪](./4_Bias_Variance_trade_off.ipynb)| [⏩](./6_Stacking.ipynb)|"
   ]
  },
  {
   "cell_type": "markdown",
   "metadata": {},
   "source": [
    "# **5. Cross Validation**"
   ]
  },
  {
   "cell_type": "markdown",
   "metadata": {},
   "source": [
    "![Cross Validation](../img/Cross%20Validation.jpg \"Cross Validation\")"
   ]
  },
  {
   "cell_type": "markdown",
   "metadata": {},
   "source": [
    "La validación cruzada es una técnica utilizada en machine learning para evaluar el rendimiento de un modelo en un conjunto de datos. Su objetivo es proporcionar una estimación más robusta del rendimiento del modelo al entrenar y evaluar el modelo en múltiples subdivisiones del conjunto de datos.\n",
    "\n",
    "**Terminología de Cross Validation:**\n",
    "\n",
    "1. **Conjunto de Entrenamiento (Training Set):** El subconjunto del conjunto de datos utilizado para entrenar el modelo.\n",
    "\n",
    "2. **Conjunto de Validación (Validation Set):** Un subconjunto separado del conjunto de datos utilizado para evaluar el rendimiento del modelo durante el entrenamiento. No se utiliza en el proceso de entrenamiento del modelo.\n",
    "\n",
    "3. **K-Fold Cross Validation:** Un enfoque común de validación cruzada que divide el conjunto de datos en K pliegues (folds). El modelo se entrena y evalúa K veces, utilizando un pliegue diferente como conjunto de validación en cada iteración.\n",
    "\n",
    "**Fórmula Matemática de Cross Validation:**\n",
    "\n",
    "El error de validación cruzada se calcula tomando el promedio de los errores obtenidos en cada iteración:\n",
    "\n",
    "$\\text{Error de Validación Cruzada} = \\frac{1}{K} \\sum_{i=1}^{K} \\text{Error}(i)$\n",
    "\n",
    "donde:\n",
    "\n",
    "* $\\text{Error}(i)$ es el error en la iteración $(i)$\n",
    "\n",
    "* $(K)$ es el número total de pliegues.\n",
    "\n",
    "**Ejemplo con Gráficos en Python:**\n",
    "\n",
    "Vamos a utilizar la biblioteca scikit-learn para implementar la validación cruzada K-Fold y visualizar el rendimiento del modelo."
   ]
  },
  {
   "cell_type": "code",
   "execution_count": 1,
   "metadata": {},
   "outputs": [
    {
     "name": "stdout",
     "output_type": "stream",
     "text": [
      "Resultados de Cross Validation (Accuracy): [0.96666667 0.96666667 0.9        0.96666667 1.        ]\n",
      "Precisión Promedio: 0.9600000000000002\n"
     ]
    },
    {
     "data": {
      "image/png": "[encoded data removed]",
      "text/plain": [
       "<Figure size 640x480 with 1 Axes>"
      ]
     },
     "metadata": {},
     "output_type": "display_data"
    }
   ],
   "source": [
    "from sklearn.model_selection import cross_val_score\n",
    "from sklearn.datasets import load_iris\n",
    "from sklearn.tree import DecisionTreeClassifier\n",
    "\n",
    "# Cargar el conjunto de datos Iris\n",
    "iris = load_iris()\n",
    "X, y = iris.data, iris.target\n",
    "\n",
    "# Crear un clasificador de árbol de decisión\n",
    "clf = DecisionTreeClassifier()\n",
    "\n",
    "# Aplicar K-Fold Cross Validation con K=5\n",
    "cv_scores = cross_val_score(clf, X, y, cv=5, scoring='accuracy')\n",
    "\n",
    "# Visualizar los resultados\n",
    "print(\"Resultados de Cross Validation (Accuracy):\", cv_scores)\n",
    "print(\"Precisión Promedio:\", cv_scores.mean())\n",
    "\n",
    "# Visualizar un gráfico de barras con los resultados\n",
    "import matplotlib.pyplot as plt\n",
    "\n",
    "plt.bar(range(1, 6), cv_scores, color='blue')\n",
    "plt.xlabel('Iteración de Validación Cruzada')\n",
    "plt.ylabel('Precisión')\n",
    "plt.title('Resultados de Cross Validation (K=5)')\n",
    "plt.show()"
   ]
  },
  {
   "cell_type": "markdown",
   "metadata": {},
   "source": [
    "En este ejemplo, utilizamos un clasificador de árbol de decisión y aplicamos K-Fold Cross Validation con \\(K=5\\) pliegues. Los resultados, que representan la precisión del modelo en cada pliegue, se imprimen y se visualizan en un gráfico de barras. La precisión promedio nos da una estimación general del rendimiento del modelo en todo el conjunto de datos."
   ]
  },
  {
   "cell_type": "markdown",
   "metadata": {},
   "source": [
    "### **Ejemplo**"
   ]
  },
  {
   "cell_type": "code",
   "execution_count": 4,
   "metadata": {},
   "outputs": [
    {
     "data": {
      "text/html": [
       "<div>\n",
       "<style scoped>\n",
       "    .dataframe tbody tr th:only-of-type {\n",
       "        vertical-align: middle;\n",
       "    }\n",
       "\n",
       "    .dataframe tbody tr th {\n",
       "        vertical-align: top;\n",
       "    }\n",
       "\n",
       "    .dataframe thead th {\n",
       "        text-align: right;\n",
       "    }\n",
       "</style>\n",
       "<table border=\"1\" class=\"dataframe\">\n",
       "  <thead>\n",
       "    <tr style=\"text-align: right;\">\n",
       "      <th></th>\n",
       "      <th>X1</th>\n",
       "      <th>X2</th>\n",
       "      <th>Y</th>\n",
       "    </tr>\n",
       "  </thead>\n",
       "  <tbody>\n",
       "    <tr>\n",
       "      <th>0</th>\n",
       "      <td>0.802011</td>\n",
       "      <td>0.379358</td>\n",
       "      <td>1.998170</td>\n",
       "    </tr>\n",
       "    <tr>\n",
       "      <th>1</th>\n",
       "      <td>0.781176</td>\n",
       "      <td>-0.755344</td>\n",
       "      <td>1.067982</td>\n",
       "    </tr>\n",
       "    <tr>\n",
       "      <th>2</th>\n",
       "      <td>0.544163</td>\n",
       "      <td>-0.303154</td>\n",
       "      <td>4.232437</td>\n",
       "    </tr>\n",
       "    <tr>\n",
       "      <th>3</th>\n",
       "      <td>2.764090</td>\n",
       "      <td>-0.367636</td>\n",
       "      <td>5.536588</td>\n",
       "    </tr>\n",
       "    <tr>\n",
       "      <th>4</th>\n",
       "      <td>-0.941308</td>\n",
       "      <td>-0.372454</td>\n",
       "      <td>3.562723</td>\n",
       "    </tr>\n",
       "    <tr>\n",
       "      <th>...</th>\n",
       "      <td>...</td>\n",
       "      <td>...</td>\n",
       "      <td>...</td>\n",
       "    </tr>\n",
       "    <tr>\n",
       "      <th>95</th>\n",
       "      <td>-1.183603</td>\n",
       "      <td>-1.942375</td>\n",
       "      <td>1.687141</td>\n",
       "    </tr>\n",
       "    <tr>\n",
       "      <th>96</th>\n",
       "      <td>-0.236908</td>\n",
       "      <td>0.365731</td>\n",
       "      <td>6.970853</td>\n",
       "    </tr>\n",
       "    <tr>\n",
       "      <th>97</th>\n",
       "      <td>-0.252106</td>\n",
       "      <td>1.376886</td>\n",
       "      <td>6.167897</td>\n",
       "    </tr>\n",
       "    <tr>\n",
       "      <th>98</th>\n",
       "      <td>0.909680</td>\n",
       "      <td>1.367285</td>\n",
       "      <td>4.142687</td>\n",
       "    </tr>\n",
       "    <tr>\n",
       "      <th>99</th>\n",
       "      <td>0.316761</td>\n",
       "      <td>-0.397754</td>\n",
       "      <td>1.059313</td>\n",
       "    </tr>\n",
       "  </tbody>\n",
       "</table>\n",
       "<p>100 rows × 3 columns</p>\n",
       "</div>"
      ],
      "text/plain": [
       "          X1        X2         Y\n",
       "0   0.802011  0.379358  1.998170\n",
       "1   0.781176 -0.755344  1.067982\n",
       "2   0.544163 -0.303154  4.232437\n",
       "3   2.764090 -0.367636  5.536588\n",
       "4  -0.941308 -0.372454  3.562723\n",
       "..       ...       ...       ...\n",
       "95 -1.183603 -1.942375  1.687141\n",
       "96 -0.236908  0.365731  6.970853\n",
       "97 -0.252106  1.376886  6.167897\n",
       "98  0.909680  1.367285  4.142687\n",
       "99  0.316761 -0.397754  1.059313\n",
       "\n",
       "[100 rows x 3 columns]"
      ]
     },
     "execution_count": 4,
     "metadata": {},
     "output_type": "execute_result"
    }
   ],
   "source": [
    "import pandas as pd\n",
    "import numpy as np\n",
    "import matplotlib.pyplot as plt\n",
    "from sklearn.model_selection import cross_val_score\n",
    "from sklearn.ensemble import RandomForestRegressor\n",
    "from sklearn.model_selection import KFold\n",
    "\n",
    "# Crear un DataFrame sintético\n",
    "data = {'X1': np.random.randn(100),\n",
    "        'X2': np.random.randn(100),\n",
    "        'Y': 2 * np.random.randn(100) + 3}\n",
    "df = pd.DataFrame(data)\n",
    "df"
   ]
  },
  {
   "cell_type": "code",
   "execution_count": 5,
   "metadata": {},
   "outputs": [
    {
     "data": {
      "image/png": "[encoded data removed]",
      "text/plain": [
       "<Figure size 1000x600 with 1 Axes>"
      ]
     },
     "metadata": {},
     "output_type": "display_data"
    }
   ],
   "source": [
    "# Separar las características (X) y las etiquetas (Y)\n",
    "X = df[['X1', 'X2']]\n",
    "y = df['Y']\n",
    "\n",
    "# Inicializar el modelo de regresión (puedes cambiarlo según tu problema)\n",
    "model = RandomForestRegressor(n_estimators=10, random_state=42)\n",
    "\n",
    "# Realizar validación cruzada con KFold (10 particiones en este ejemplo)\n",
    "kf = KFold(n_splits=10, shuffle=True, random_state=42)\n",
    "\n",
    "# Calcular las puntuaciones de la validación cruzada\n",
    "cross_val_scores = cross_val_score(model, X, y, cv=kf, scoring='neg_mean_squared_error')\n",
    "\n",
    "# Visualizar las puntuaciones\n",
    "plt.figure(figsize=(10, 6))\n",
    "plt.bar(range(1, len(cross_val_scores) + 1), -cross_val_scores)\n",
    "plt.xlabel('Partición de Validación Cruzada')\n",
    "plt.ylabel('Error Cuadrático Medio (MSE)')\n",
    "plt.title('Resultados de Validación Cruzada')\n",
    "plt.show()"
   ]
  },
  {
   "cell_type": "markdown",
   "metadata": {},
   "source": [
    "| **Inicio** | **atrás 4** | **Siguiente 6** |\n",
    "|----------- |-------------- |---------------|\n",
    "| [🏠](../README.md) | [⏪](./4_Bias_Variance_trade_off.ipynb)| [⏩](./6_Stacking.ipynb)|"
   ]
  }
 ],
 "metadata": {
  "kernelspec": {
   "display_name": "base",
   "language": "python",
   "name": "python3"
  },
  "language_info": {
   "codemirror_mode": {
    "name": "ipython",
    "version": 3
   },
   "file_extension": ".py",
   "mimetype": "text/x-python",
   "name": "python",
   "nbconvert_exporter": "python",
   "pygments_lexer": "ipython3",
   "version": "3.9.12"
  }
 },
 "nbformat": 4,
 "nbformat_minor": 2
}
