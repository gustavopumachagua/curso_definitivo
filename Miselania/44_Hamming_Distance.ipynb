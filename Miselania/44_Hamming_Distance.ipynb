{
 "cells": [
  {
   "cell_type": "markdown",
   "metadata": {},
   "source": [
    "| **Inicio** | **atrás 43** | **Siguiente 45** |\n",
    "|----------- |-------------- |---------------|\n",
    "| [🏠](../README.md) | [⏪](./43_Linear_Regression.ipynb)| [⏩](./45.Logistic_Regression.ipynb)|"
   ]
  },
  {
   "cell_type": "markdown",
   "metadata": {},
   "source": [
    "# **44. Hamming Distance**"
   ]
  },
  {
   "cell_type": "markdown",
   "metadata": {},
   "source": [
    "**Distancia de Hamming: Explicación Detallada**\n",
    "\n",
    "La distancia de Hamming es una medida de la diferencia entre dos secuencias de igual longitud de símbolos. Esta distancia se utiliza comúnmente en teoría de la información y codificación de errores para medir la discrepancia entre dos cadenas de bits del mismo tamaño. La distancia de Hamming cuenta la cantidad de posiciones en las que los símbolos correspondientes son diferentes.\n",
    "\n",
    "**Terminología:**\n",
    "\n",
    "- **Cadenas de Bits:** Secuencias de 0s y 1s, que representan información binaria.\n",
    "- **Distancia de Hamming:** Número de posiciones en las que los bits correspondientes son diferentes entre dos cadenas de bits de igual longitud.\n",
    "\n",
    "**Fórmula Matemática:**\n",
    "\n",
    "La fórmula para la distancia de Hamming entre dos cadenas $(a)$ y $(b)$ del mismo tamaño es la siguiente:\n",
    "\n",
    "$H(a, b) = \\sum_{i=1}^{n} \\delta(a_i, b_i)$\n",
    "\n",
    "Donde:\n",
    "\n",
    "- $(n)$ es la longitud de las cadenas.\n",
    "- $(a_i)$ y $(b_i)$ son los bits en la posición $(i)$ de las cadenas $(a)$ y $(b)$.\n",
    "- $\\delta(a_i, b_i)$ es una función delta que devuelve 0 si $(a_i)$ y $(b_i)$ son iguales, y 1 si son diferentes.\n",
    "\n",
    "**Ejemplo con Código Python:**"
   ]
  },
  {
   "cell_type": "code",
   "execution_count": 1,
   "metadata": {},
   "outputs": [
    {
     "name": "stdout",
     "output_type": "stream",
     "text": [
      "Distancia de Hamming: 3\n"
     ]
    }
   ],
   "source": [
    "def hamming_distance(str1, str2):\n",
    "    if len(str1) != len(str2):\n",
    "        raise ValueError(\"Las cadenas deben tener la misma longitud\")\n",
    "    \n",
    "    distance = sum(bit1 != bit2 for bit1, bit2 in zip(str1, str2))\n",
    "    return distance\n",
    "\n",
    "# Ejemplo de uso\n",
    "cadena1 = \"1010101\"\n",
    "cadena2 = \"1001001\"\n",
    "\n",
    "distancia = hamming_distance(cadena1, cadena2)\n",
    "print(f\"Distancia de Hamming: {distancia}\")"
   ]
  },
  {
   "cell_type": "markdown",
   "metadata": {},
   "source": [
    "En este ejemplo, las cadenas de bits \"1010101\" y \"1001001\" tienen una distancia de Hamming de 3, ya que hay tres posiciones en las que los bits correspondientes son diferentes.\n",
    "\n",
    "**Gráficos:**\n",
    "\n",
    "Dado que la distancia de Hamming se utiliza comúnmente con datos binarios, no se visualiza directamente con gráficos. Sin embargo, se puede representar visualmente la diferencia entre dos secuencias binarias resaltando las posiciones en las que difieren. Esto podría realizarse mediante gráficos de barras o mediante representaciones visuales de las cadenas de bits."
   ]
  },
  {
   "cell_type": "markdown",
   "metadata": {},
   "source": [
    "| **Inicio** | **atrás 43** | **Siguiente 45** |\n",
    "|----------- |-------------- |---------------|\n",
    "| [🏠](../README.md) | [⏪](./43_Linear_Regression.ipynb)| [⏩](./45.Logistic_Regression.ipynb)|"
   ]
  }
 ],
 "metadata": {
  "kernelspec": {
   "display_name": "base",
   "language": "python",
   "name": "python3"
  },
  "language_info": {
   "codemirror_mode": {
    "name": "ipython",
    "version": 3
   },
   "file_extension": ".py",
   "mimetype": "text/x-python",
   "name": "python",
   "nbconvert_exporter": "python",
   "pygments_lexer": "ipython3",
   "version": "3.9.12"
  }
 },
 "nbformat": 4,
 "nbformat_minor": 2
}
