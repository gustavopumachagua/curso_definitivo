{
 "cells": [
  {
   "cell_type": "markdown",
   "metadata": {},
   "source": [
    "| **Inicio** | **Siguiente 6** |\n",
    "|-----------  |---------------|\n",
    "| [🏠](../README.md) | [⏪](./6_Machine_Learning_para_Analisis_de_Datos.ipynb)|"
   ]
  },
  {
   "cell_type": "markdown",
   "metadata": {},
   "source": [
    "# **7. Temas Avanzados y Herramientas Específicas**"
   ]
  },
  {
   "cell_type": "markdown",
   "metadata": {},
   "source": [
    "## **Análisis de Texto y Procesamiento de Lenguaje Natural (NLP)**"
   ]
  },
  {
   "cell_type": "markdown",
   "metadata": {},
   "source": [
    "### **Introducción al análisis de texto**"
   ]
  },
  {
   "cell_type": "markdown",
   "metadata": {},
   "source": [
    "El Análisis de Texto y el Procesamiento del Lenguaje Natural (NLP, por sus siglas en inglés) son áreas de la inteligencia artificial que se centran en la interacción entre las computadoras y el lenguaje humano. El NLP permite a las máquinas comprender, interpretar y generar texto de manera similar a como lo haría un ser humano. A continuación, proporcionaré una explicación detallada y un ejemplo práctico utilizando Python y bibliotecas populares como spaCy y matplotlib.\n",
    "\n",
    "**Análisis de Texto y Procesamiento de Lenguaje Natural (NLP)**\n",
    "\n",
    "**1. Tokenización**\n",
    "La tokenización es el proceso de dividir el texto en unidades más pequeñas, llamadas tokens. Los tokens pueden ser palabras, frases o incluso caracteres, dependiendo del nivel de granularidad deseado."
   ]
  },
  {
   "cell_type": "code",
   "execution_count": 1,
   "metadata": {},
   "outputs": [
    {
     "name": "stderr",
     "output_type": "stream",
     "text": [
      "2023-12-12 14:52:28.686461: I tensorflow/tsl/cuda/cudart_stub.cc:28] Could not find cuda drivers on your machine, GPU will not be used.\n",
      "2023-12-12 14:52:33.925427: I tensorflow/tsl/cuda/cudart_stub.cc:28] Could not find cuda drivers on your machine, GPU will not be used.\n",
      "2023-12-12 14:53:07.257903: W tensorflow/compiler/tf2tensorrt/utils/py_utils.cc:38] TF-TRT Warning: Could not find TensorRT\n",
      "/home/puma/anaconda3/lib/python3.9/site-packages/spacy/util.py:910: UserWarning: [W095] Model 'es_core_news_sm' (3.5.0) was trained with spaCy v3.5 and may not be 100% compatible with the current version (3.6.0). If you see errors or degraded performance, download a newer compatible model or retrain your custom model with the current spaCy version. For more details and available updates, run: python -m spacy validate\n",
      "  warnings.warn(warn_msg)\n"
     ]
    },
    {
     "name": "stdout",
     "output_type": "stream",
     "text": [
      "['El', 'procesamiento', 'de', 'lenguaje', 'natural', 'es', 'emocionante', '.', '¡', 'Vamos', 'a', 'explorar', 'spaCy', '!']\n"
     ]
    }
   ],
   "source": [
    "import spacy\n",
    "\n",
    "# Cargar el modelo de spaCy en español\n",
    "nlp = spacy.load('es_core_news_sm')\n",
    "\n",
    "# Texto de ejemplo\n",
    "texto = \"El procesamiento de lenguaje natural es emocionante. ¡Vamos a explorar spaCy!\"\n",
    "\n",
    "# Tokenización\n",
    "doc = nlp(texto)\n",
    "tokens = [token.text for token in doc]\n",
    "print(tokens)"
   ]
  },
  {
   "cell_type": "markdown",
   "metadata": {},
   "source": [
    "**2. Análisis de Dependencias**\n",
    "\n",
    "El análisis de dependencias revela la relación gramatical entre las palabras en una oración. Cada palabra se conecta a otra, mostrando cómo se relacionan entre sí."
   ]
  },
  {
   "cell_type": "code",
   "execution_count": 2,
   "metadata": {},
   "outputs": [
    {
     "name": "stdout",
     "output_type": "stream",
     "text": [
      "El --> det --> procesamiento\n",
      "procesamiento --> nsubj --> emocionante\n",
      "de --> case --> lenguaje\n",
      "lenguaje --> nmod --> procesamiento\n",
      "natural --> amod --> lenguaje\n",
      "es --> cop --> emocionante\n",
      "emocionante --> ROOT --> emocionante\n",
      ". --> punct --> emocionante\n",
      "¡ --> punct --> explorar\n",
      "Vamos --> aux --> explorar\n",
      "a --> mark --> explorar\n",
      "explorar --> ROOT --> explorar\n",
      "spaCy --> obj --> explorar\n",
      "! --> punct --> explorar\n"
     ]
    }
   ],
   "source": [
    "# Análisis de dependencias\n",
    "for token in doc:\n",
    "    print(f\"{token.text} --> {token.dep_} --> {token.head.text}\")"
   ]
  },
  {
   "cell_type": "markdown",
   "metadata": {},
   "source": [
    "**3. Entidades Nombradas**\n",
    "\n",
    "El reconocimiento de entidades nombradas identifica y clasifica entidades importantes en el texto, como nombres de personas, lugares, organizaciones, etc."
   ]
  },
  {
   "cell_type": "code",
   "execution_count": 3,
   "metadata": {},
   "outputs": [
    {
     "name": "stdout",
     "output_type": "stream",
     "text": [
      "¡Vamos: LOC\n"
     ]
    }
   ],
   "source": [
    "# Reconocimiento de entidades nombradas\n",
    "for entidad in doc.ents:\n",
    "    print(f\"{entidad.text}: {entidad.label_}\")"
   ]
  },
  {
   "cell_type": "markdown",
   "metadata": {},
   "source": [
    "**4. Análisis de Sentimiento**\n",
    "\n",
    "El análisis de sentimiento evalúa la polaridad del texto, es decir, si el texto es positivo, negativo o neutral."
   ]
  },
  {
   "cell_type": "code",
   "execution_count": 4,
   "metadata": {},
   "outputs": [
    {
     "name": "stdout",
     "output_type": "stream",
     "text": [
      "Polaridad del sentimiento: 0.0\n"
     ]
    }
   ],
   "source": [
    "from textblob import TextBlob\n",
    "\n",
    "# Texto de ejemplo para análisis de sentimiento\n",
    "texto_sentimiento = \"spaCy es increíblemente poderoso y fácil de usar.\"\n",
    "\n",
    "# Crear un objeto TextBlob\n",
    "blob = TextBlob(texto_sentimiento)\n",
    "\n",
    "# Obtener el sentimiento\n",
    "polaridad = blob.sentiment.polarity\n",
    "print(f\"Polaridad del sentimiento: {polaridad}\")"
   ]
  },
  {
   "cell_type": "markdown",
   "metadata": {},
   "source": [
    "Estos son solo algunos ejemplos básicos de las capacidades del NLP. Ahora, para gráficos personalizados, consideremos visualizar la frecuencia de las palabras en un texto utilizando un gráfico de barras."
   ]
  },
  {
   "cell_type": "code",
   "execution_count": 5,
   "metadata": {},
   "outputs": [
    {
     "data": {
      "image/png": "[encoded data removed]",
      "text/plain": [
       "<Figure size 1000x600 with 1 Axes>"
      ]
     },
     "metadata": {},
     "output_type": "display_data"
    }
   ],
   "source": [
    "from collections import Counter\n",
    "import matplotlib.pyplot as plt\n",
    "\n",
    "# Obtener la frecuencia de las palabras\n",
    "frecuencia_palabras = Counter(tokens)\n",
    "\n",
    "# Visualizar la frecuencia de las palabras\n",
    "plt.figure(figsize=(10, 6))\n",
    "plt.bar(frecuencia_palabras.keys(), frecuencia_palabras.values())\n",
    "plt.title('Frecuencia de Palabras')\n",
    "plt.xlabel('Palabra')\n",
    "plt.ylabel('Frecuencia')\n",
    "plt.show()"
   ]
  },
  {
   "cell_type": "markdown",
   "metadata": {},
   "source": [
    "Estos ejemplos abordan algunos aspectos del NLP, pero hay muchas otras técnicas y conceptos avanzados en este campo, como el modelado de temas, la traducción automática, la generación de texto y más. El NLP es una disciplina amplia y emocionante que se aplica en una variedad de aplicaciones del mundo real."
   ]
  },
  {
   "cell_type": "markdown",
   "metadata": {},
   "source": [
    "### **Procesamiento básico de lenguaje natural**"
   ]
  },
  {
   "cell_type": "markdown",
   "metadata": {},
   "source": [
    "El Procesamiento del Lenguaje Natural (NLP) es una rama de la inteligencia artificial que se ocupa de la interacción entre las computadoras y el lenguaje humano. El Procesamiento Básico de Lenguaje Natural implica tareas fundamentales, como tokenización, lematización, análisis sintáctico y extracción de características. A continuación, te proporcionaré explicaciones y ejemplos de estas tareas utilizando la biblioteca spaCy en Python.\n",
    "\n",
    "Primero, asegúrate de tener spaCy instalado:\n",
    "\n",
    "```bash\n",
    "pip install spacy\n",
    "```\n",
    "\n",
    "Luego, descarga el modelo del idioma español:\n",
    "\n",
    "```bash\n",
    "python -m spacy download es_core_news_sm\n",
    "```"
   ]
  },
  {
   "cell_type": "markdown",
   "metadata": {},
   "source": [
    "Ahora, puedes usar spaCy para realizar el Procesamiento Básico de Lenguaje Natural.\n",
    "\n",
    "**1. Tokenización:**\n",
    "\n",
    "La tokenización implica dividir un texto en unidades más pequeñas llamadas \"tokens\". Estos tokens pueden ser palabras, signos de puntuación, etc."
   ]
  },
  {
   "cell_type": "code",
   "execution_count": 6,
   "metadata": {},
   "outputs": [
    {
     "name": "stderr",
     "output_type": "stream",
     "text": [
      "/home/puma/anaconda3/lib/python3.9/site-packages/spacy/util.py:910: UserWarning: [W095] Model 'es_core_news_sm' (3.5.0) was trained with spaCy v3.5 and may not be 100% compatible with the current version (3.6.0). If you see errors or degraded performance, download a newer compatible model or retrain your custom model with the current spaCy version. For more details and available updates, run: python -m spacy validate\n",
      "  warnings.warn(warn_msg)\n"
     ]
    },
    {
     "name": "stdout",
     "output_type": "stream",
     "text": [
      "Tokens: ['El', 'procesamiento', 'del', 'lenguaje', 'natural', 'es', 'fascinante', '.']\n"
     ]
    }
   ],
   "source": [
    "import spacy\n",
    "\n",
    "# Cargar el modelo de spaCy para español\n",
    "nlp = spacy.load('es_core_news_sm')\n",
    "\n",
    "# Texto de ejemplo\n",
    "texto = \"El procesamiento del lenguaje natural es fascinante.\"\n",
    "\n",
    "# Tokenización\n",
    "doc = nlp(texto)\n",
    "tokens = [token.text for token in doc]\n",
    "\n",
    "print(\"Tokens:\", tokens)"
   ]
  },
  {
   "cell_type": "markdown",
   "metadata": {},
   "source": [
    "**2. Lematización:**\n",
    "\n",
    "La lematización implica reducir las palabras a su forma base o lema. Por ejemplo, \"corriendo\" se lematizaría a \"correr\"."
   ]
  },
  {
   "cell_type": "code",
   "execution_count": 7,
   "metadata": {},
   "outputs": [
    {
     "name": "stdout",
     "output_type": "stream",
     "text": [
      "Lemas: ['el', 'procesamiento', 'del', 'lenguaje', 'natural', 'ser', 'fascinante', '.']\n"
     ]
    }
   ],
   "source": [
    "# Lematización\n",
    "lemmas = [token.lemma_ for token in doc]\n",
    "\n",
    "print(\"Lemas:\", lemmas)"
   ]
  },
  {
   "cell_type": "markdown",
   "metadata": {},
   "source": [
    "**3. Análisis Sintáctico:**\n",
    "\n",
    "El análisis sintáctico implica comprender la estructura gramatical de una oración, incluidas las relaciones entre las palabras."
   ]
  },
  {
   "cell_type": "code",
   "execution_count": 8,
   "metadata": {},
   "outputs": [
    {
     "name": "stdout",
     "output_type": "stream",
     "text": [
      "Análisis Sintáctico: [('El', 'det', 'procesamiento'), ('procesamiento', 'nsubj', 'fascinante'), ('del', 'case', 'lenguaje'), ('lenguaje', 'nmod', 'procesamiento'), ('natural', 'amod', 'lenguaje'), ('es', 'cop', 'fascinante'), ('fascinante', 'ROOT', 'fascinante'), ('.', 'punct', 'fascinante')]\n"
     ]
    }
   ],
   "source": [
    "# Análisis sintáctico\n",
    "sintaxis = [(token.text, token.dep_, token.head.text) for token in doc]\n",
    "\n",
    "print(\"Análisis Sintáctico:\", sintaxis)"
   ]
  },
  {
   "cell_type": "markdown",
   "metadata": {},
   "source": [
    "**4. Entidades Nombradas:**\n",
    "\n",
    "Identificación de entidades como nombres de personas, organizaciones, lugares, etc."
   ]
  },
  {
   "cell_type": "code",
   "execution_count": 9,
   "metadata": {},
   "outputs": [
    {
     "name": "stdout",
     "output_type": "stream",
     "text": [
      "Entidades Nombradas: []\n"
     ]
    }
   ],
   "source": [
    "# Identificación de entidades nombradas\n",
    "entidades = [(ent.text, ent.label_) for ent in doc.ents]\n",
    "\n",
    "print(\"Entidades Nombradas:\", entidades)"
   ]
  },
  {
   "cell_type": "markdown",
   "metadata": {},
   "source": [
    "Estos son ejemplos básicos de las tareas fundamentales en el Procesamiento Básico de Lenguaje Natural. Puedes ajustar y expandir estas operaciones según tus necesidades específicas. Además, puedes visualizar los resultados con gráficos personalizados según el contexto de tu aplicación."
   ]
  },
  {
   "cell_type": "markdown",
   "metadata": {},
   "source": [
    "## **Retroalimentación y Mejora Continua**"
   ]
  },
  {
   "cell_type": "markdown",
   "metadata": {},
   "source": [
    "### **Obtener comentarios sobre proyectos y desempeño**"
   ]
  },
  {
   "cell_type": "markdown",
   "metadata": {},
   "source": [
    "Obtener comentarios sobre proyectos y desempeño puede ser crucial para mejorar procesos y resultados. Aquí hay una explicación detallada junto con ejemplos que podrían ayudarte en este proceso:\n",
    "\n",
    "**1. Encuestas y Formularios:**\n",
    "\n",
    "**Ejemplo:**\n",
    "\n",
    "Utiliza plataformas como Google Forms o Typeform para crear encuestas específicas. Asegúrate de incluir preguntas relacionadas con el proyecto, como:\n",
    "\n",
    "- **¿Cómo calificarías el progreso del proyecto hasta ahora?**\n",
    "- **¿Hubo desafíos específicos que enfrentaste durante el proyecto?**\n",
    "- **¿Qué aspectos del proyecto funcionaron bien?**\n",
    "\n",
    "**Implementación en Python:**\n",
    "\n",
    "No es necesario utilizar Python directamente para crear encuestas, pero puedes usar bibliotecas como `matplotlib` o `seaborn` para visualizar los resultados si decides analizar los datos con Python.\n",
    "\n",
    "**2. Análisis de Sentimientos:**\n",
    "\n",
    "**Ejemplo:**\n",
    "\n",
    "Utiliza técnicas de análisis de sentimientos en comentarios o revisiones para entender las emociones asociadas con el proyecto. Puedes utilizar bibliotecas de procesamiento de lenguaje natural como NLTK o spaCy para realizar este análisis.\n",
    "\n",
    "**Implementación en Python:**"
   ]
  },
  {
   "cell_type": "code",
   "execution_count": 10,
   "metadata": {},
   "outputs": [
    {
     "name": "stdout",
     "output_type": "stream",
     "text": [
      "El comentario es neutral.\n"
     ]
    }
   ],
   "source": [
    "from textblob import TextBlob\n",
    "\n",
    "comentario = \"El proyecto fue muy exitoso y el equipo hizo un gran trabajo.\"\n",
    "\n",
    "analisis_sentimientos = TextBlob(comentario)\n",
    "polaridad = analisis_sentimientos.sentiment.polarity\n",
    "\n",
    "if polaridad > 0:\n",
    "    print(\"El comentario es positivo.\")\n",
    "elif polaridad < 0:\n",
    "    print(\"El comentario es negativo.\")\n",
    "else:\n",
    "    print(\"El comentario es neutral.\")"
   ]
  },
  {
   "cell_type": "markdown",
   "metadata": {},
   "source": [
    "**3. Plataformas de Colaboración y Mensajería:**\n",
    "\n",
    "**Ejemplo:**\n",
    "\n",
    "Utiliza plataformas como Slack o Microsoft Teams para crear canales específicos para comentarios sobre proyectos. Esto permite una comunicación fluida y constante.\n",
    "\n",
    "**Implementación en Python:**\n",
    "\n",
    "Puedes usar bibliotecas como `slack_sdk` para integrar funcionalidades directamente en tu código Python y automatizar ciertas acciones basadas en comentarios.\n",
    "\n",
    "**4. Revisiones y Retrospectivas:**\n",
    "\n",
    "**Ejemplo:**\n",
    "\n",
    "Organiza reuniones regulares para revisiones de proyecto y retrospectivas. Pide a los miembros del equipo que compartan comentarios y sugerencias durante estas sesiones.\n",
    "\n",
    "**Implementación en Python:**\n",
    "\n",
    "No es posible automatizar directamente las revisiones de proyectos en Python, pero puedes usar bibliotecas como `matplotlib` para visualizar datos relacionados con el desempeño del proyecto.\n",
    "\n",
    "**5. Monitoreo Continuo:**\n",
    "\n",
    "**Ejemplo:**\n",
    "\n",
    "Implementa herramientas de monitoreo continuo que puedan alertar sobre posibles problemas. Estos sistemas pueden incluir comentarios automáticamente en función de los resultados del monitoreo.\n",
    "\n",
    "**Implementación en Python:**\n",
    "\n",
    "Usa bibliotecas como `matplotlib` o `seaborn` para visualizar datos de monitoreo. También puedes integrar bibliotecas de monitoreo como Prometheus con Python.\n",
    "\n",
    "Recuerda adaptar estas sugerencias a las necesidades específicas de tu proyecto y equipo. La combinación de varias estrategias puede proporcionar una visión más completa del desempeño y los comentarios asociados."
   ]
  },
  {
   "cell_type": "markdown",
   "metadata": {},
   "source": [
    "| **Inicio** | **Siguiente 6** |\n",
    "|-----------  |---------------|\n",
    "| [🏠](../README.md) | [⏪](./6_Machine_Learning_para_Analisis_de_Datos.ipynb)|"
   ]
  }
 ],
 "metadata": {
  "kernelspec": {
   "display_name": "base",
   "language": "python",
   "name": "python3"
  },
  "language_info": {
   "codemirror_mode": {
    "name": "ipython",
    "version": 3
   },
   "file_extension": ".py",
   "mimetype": "text/x-python",
   "name": "python",
   "nbconvert_exporter": "python",
   "pygments_lexer": "ipython3",
   "version": "3.9.12"
  }
 },
 "nbformat": 4,
 "nbformat_minor": 2
}
